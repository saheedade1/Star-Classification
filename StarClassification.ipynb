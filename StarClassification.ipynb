{
 "cells": [
  {
   "cell_type": "code",
   "execution_count": 92,
   "id": "1c3ab6c4-61d8-450a-b43c-971ac319fe9c",
   "metadata": {},
   "outputs": [],
   "source": [
    "import pandas as pd\n",
    "import numpy as np\n",
    "import matplotlib.pyplot as plt\n",
    "import seaborn as sns\n",
    "import shap\n",
    "import sklearn\n",
    "\n",
    "from sklearn import metrics\n",
    "from sklearn import svm\n",
    "from sklearn.svm import SVC\n",
    "from imblearn.over_sampling import SMOTE\n",
    "# from imblearn.under_sampling import RandomUnderSampler\n",
    "from sklearn.model_selection import train_test_split\n",
    "from sklearn.decomposition import PCA\n",
    "from sklearn.linear_model import LogisticRegression\n",
    "from sklearn.metrics import confusion_matrix\n",
    "from sklearn.metrics import classification_report\n",
    "from sklearn.preprocessing import StandardScaler, MinMaxScaler\n",
    "from sklearn.model_selection import RepeatedKFold\n",
    "from sklearn.model_selection import cross_val_score\n",
    "from statsmodels.stats.outliers_influence import variance_inflation_factor\n",
    "from sklearn.ensemble import RandomForestClassifier\n",
    "from sklearn.metrics import classification_report\n",
    "from sklearn.metrics import roc_auc_score\n",
    "# pip install shap"
   ]
  },
  {
   "cell_type": "code",
   "execution_count": 20,
   "id": "da1a99db-f8d1-4360-ad34-bcc791acc22e",
   "metadata": {},
   "outputs": [
    {
     "data": {
      "text/html": [
       "<div>\n",
       "<style scoped>\n",
       "    .dataframe tbody tr th:only-of-type {\n",
       "        vertical-align: middle;\n",
       "    }\n",
       "\n",
       "    .dataframe tbody tr th {\n",
       "        vertical-align: top;\n",
       "    }\n",
       "\n",
       "    .dataframe thead th {\n",
       "        text-align: right;\n",
       "    }\n",
       "</style>\n",
       "<table border=\"1\" class=\"dataframe\">\n",
       "  <thead>\n",
       "    <tr style=\"text-align: right;\">\n",
       "      <th></th>\n",
       "      <th>obj_ID</th>\n",
       "      <th>alpha</th>\n",
       "      <th>delta</th>\n",
       "      <th>u</th>\n",
       "      <th>g</th>\n",
       "      <th>r</th>\n",
       "      <th>i</th>\n",
       "      <th>z</th>\n",
       "      <th>run_ID</th>\n",
       "      <th>rerun_ID</th>\n",
       "      <th>cam_col</th>\n",
       "      <th>field_ID</th>\n",
       "      <th>spec_obj_ID</th>\n",
       "      <th>class</th>\n",
       "      <th>redshift</th>\n",
       "      <th>plate</th>\n",
       "      <th>MJD</th>\n",
       "      <th>fiber_ID</th>\n",
       "    </tr>\n",
       "  </thead>\n",
       "  <tbody>\n",
       "    <tr>\n",
       "      <th>0</th>\n",
       "      <td>1.237661e+18</td>\n",
       "      <td>135.689107</td>\n",
       "      <td>32.494632</td>\n",
       "      <td>23.87882</td>\n",
       "      <td>22.27530</td>\n",
       "      <td>20.39501</td>\n",
       "      <td>19.16573</td>\n",
       "      <td>18.79371</td>\n",
       "      <td>3606</td>\n",
       "      <td>301</td>\n",
       "      <td>2</td>\n",
       "      <td>79</td>\n",
       "      <td>6.543777e+18</td>\n",
       "      <td>GALAXY</td>\n",
       "      <td>0.634794</td>\n",
       "      <td>5812</td>\n",
       "      <td>56354</td>\n",
       "      <td>171</td>\n",
       "    </tr>\n",
       "    <tr>\n",
       "      <th>1</th>\n",
       "      <td>1.237665e+18</td>\n",
       "      <td>144.826101</td>\n",
       "      <td>31.274185</td>\n",
       "      <td>24.77759</td>\n",
       "      <td>22.83188</td>\n",
       "      <td>22.58444</td>\n",
       "      <td>21.16812</td>\n",
       "      <td>21.61427</td>\n",
       "      <td>4518</td>\n",
       "      <td>301</td>\n",
       "      <td>5</td>\n",
       "      <td>119</td>\n",
       "      <td>1.176014e+19</td>\n",
       "      <td>GALAXY</td>\n",
       "      <td>0.779136</td>\n",
       "      <td>10445</td>\n",
       "      <td>58158</td>\n",
       "      <td>427</td>\n",
       "    </tr>\n",
       "    <tr>\n",
       "      <th>2</th>\n",
       "      <td>1.237661e+18</td>\n",
       "      <td>142.188790</td>\n",
       "      <td>35.582444</td>\n",
       "      <td>25.26307</td>\n",
       "      <td>22.66389</td>\n",
       "      <td>20.60976</td>\n",
       "      <td>19.34857</td>\n",
       "      <td>18.94827</td>\n",
       "      <td>3606</td>\n",
       "      <td>301</td>\n",
       "      <td>2</td>\n",
       "      <td>120</td>\n",
       "      <td>5.152200e+18</td>\n",
       "      <td>GALAXY</td>\n",
       "      <td>0.644195</td>\n",
       "      <td>4576</td>\n",
       "      <td>55592</td>\n",
       "      <td>299</td>\n",
       "    </tr>\n",
       "    <tr>\n",
       "      <th>3</th>\n",
       "      <td>1.237663e+18</td>\n",
       "      <td>338.741038</td>\n",
       "      <td>-0.402828</td>\n",
       "      <td>22.13682</td>\n",
       "      <td>23.77656</td>\n",
       "      <td>21.61162</td>\n",
       "      <td>20.50454</td>\n",
       "      <td>19.25010</td>\n",
       "      <td>4192</td>\n",
       "      <td>301</td>\n",
       "      <td>3</td>\n",
       "      <td>214</td>\n",
       "      <td>1.030107e+19</td>\n",
       "      <td>GALAXY</td>\n",
       "      <td>0.932346</td>\n",
       "      <td>9149</td>\n",
       "      <td>58039</td>\n",
       "      <td>775</td>\n",
       "    </tr>\n",
       "    <tr>\n",
       "      <th>4</th>\n",
       "      <td>1.237680e+18</td>\n",
       "      <td>345.282593</td>\n",
       "      <td>21.183866</td>\n",
       "      <td>19.43718</td>\n",
       "      <td>17.58028</td>\n",
       "      <td>16.49747</td>\n",
       "      <td>15.97711</td>\n",
       "      <td>15.54461</td>\n",
       "      <td>8102</td>\n",
       "      <td>301</td>\n",
       "      <td>3</td>\n",
       "      <td>137</td>\n",
       "      <td>6.891865e+18</td>\n",
       "      <td>GALAXY</td>\n",
       "      <td>0.116123</td>\n",
       "      <td>6121</td>\n",
       "      <td>56187</td>\n",
       "      <td>842</td>\n",
       "    </tr>\n",
       "    <tr>\n",
       "      <th>...</th>\n",
       "      <td>...</td>\n",
       "      <td>...</td>\n",
       "      <td>...</td>\n",
       "      <td>...</td>\n",
       "      <td>...</td>\n",
       "      <td>...</td>\n",
       "      <td>...</td>\n",
       "      <td>...</td>\n",
       "      <td>...</td>\n",
       "      <td>...</td>\n",
       "      <td>...</td>\n",
       "      <td>...</td>\n",
       "      <td>...</td>\n",
       "      <td>...</td>\n",
       "      <td>...</td>\n",
       "      <td>...</td>\n",
       "      <td>...</td>\n",
       "      <td>...</td>\n",
       "    </tr>\n",
       "    <tr>\n",
       "      <th>99995</th>\n",
       "      <td>1.237679e+18</td>\n",
       "      <td>39.620709</td>\n",
       "      <td>-2.594074</td>\n",
       "      <td>22.16759</td>\n",
       "      <td>22.97586</td>\n",
       "      <td>21.90404</td>\n",
       "      <td>21.30548</td>\n",
       "      <td>20.73569</td>\n",
       "      <td>7778</td>\n",
       "      <td>301</td>\n",
       "      <td>2</td>\n",
       "      <td>581</td>\n",
       "      <td>1.055431e+19</td>\n",
       "      <td>GALAXY</td>\n",
       "      <td>0.000000</td>\n",
       "      <td>9374</td>\n",
       "      <td>57749</td>\n",
       "      <td>438</td>\n",
       "    </tr>\n",
       "    <tr>\n",
       "      <th>99996</th>\n",
       "      <td>1.237679e+18</td>\n",
       "      <td>29.493819</td>\n",
       "      <td>19.798874</td>\n",
       "      <td>22.69118</td>\n",
       "      <td>22.38628</td>\n",
       "      <td>20.45003</td>\n",
       "      <td>19.75759</td>\n",
       "      <td>19.41526</td>\n",
       "      <td>7917</td>\n",
       "      <td>301</td>\n",
       "      <td>1</td>\n",
       "      <td>289</td>\n",
       "      <td>8.586351e+18</td>\n",
       "      <td>GALAXY</td>\n",
       "      <td>0.404895</td>\n",
       "      <td>7626</td>\n",
       "      <td>56934</td>\n",
       "      <td>866</td>\n",
       "    </tr>\n",
       "    <tr>\n",
       "      <th>99997</th>\n",
       "      <td>1.237668e+18</td>\n",
       "      <td>224.587407</td>\n",
       "      <td>15.700707</td>\n",
       "      <td>21.16916</td>\n",
       "      <td>19.26997</td>\n",
       "      <td>18.20428</td>\n",
       "      <td>17.69034</td>\n",
       "      <td>17.35221</td>\n",
       "      <td>5314</td>\n",
       "      <td>301</td>\n",
       "      <td>4</td>\n",
       "      <td>308</td>\n",
       "      <td>3.112008e+18</td>\n",
       "      <td>GALAXY</td>\n",
       "      <td>0.143366</td>\n",
       "      <td>2764</td>\n",
       "      <td>54535</td>\n",
       "      <td>74</td>\n",
       "    </tr>\n",
       "    <tr>\n",
       "      <th>99998</th>\n",
       "      <td>1.237661e+18</td>\n",
       "      <td>212.268621</td>\n",
       "      <td>46.660365</td>\n",
       "      <td>25.35039</td>\n",
       "      <td>21.63757</td>\n",
       "      <td>19.91386</td>\n",
       "      <td>19.07254</td>\n",
       "      <td>18.62482</td>\n",
       "      <td>3650</td>\n",
       "      <td>301</td>\n",
       "      <td>4</td>\n",
       "      <td>131</td>\n",
       "      <td>7.601080e+18</td>\n",
       "      <td>GALAXY</td>\n",
       "      <td>0.455040</td>\n",
       "      <td>6751</td>\n",
       "      <td>56368</td>\n",
       "      <td>470</td>\n",
       "    </tr>\n",
       "    <tr>\n",
       "      <th>99999</th>\n",
       "      <td>1.237661e+18</td>\n",
       "      <td>196.896053</td>\n",
       "      <td>49.464643</td>\n",
       "      <td>22.62171</td>\n",
       "      <td>21.79745</td>\n",
       "      <td>20.60115</td>\n",
       "      <td>20.00959</td>\n",
       "      <td>19.28075</td>\n",
       "      <td>3650</td>\n",
       "      <td>301</td>\n",
       "      <td>4</td>\n",
       "      <td>60</td>\n",
       "      <td>8.343152e+18</td>\n",
       "      <td>GALAXY</td>\n",
       "      <td>0.542944</td>\n",
       "      <td>7410</td>\n",
       "      <td>57104</td>\n",
       "      <td>851</td>\n",
       "    </tr>\n",
       "  </tbody>\n",
       "</table>\n",
       "<p>100000 rows × 18 columns</p>\n",
       "</div>"
      ],
      "text/plain": [
       "             obj_ID       alpha      delta         u         g         r  \\\n",
       "0      1.237661e+18  135.689107  32.494632  23.87882  22.27530  20.39501   \n",
       "1      1.237665e+18  144.826101  31.274185  24.77759  22.83188  22.58444   \n",
       "2      1.237661e+18  142.188790  35.582444  25.26307  22.66389  20.60976   \n",
       "3      1.237663e+18  338.741038  -0.402828  22.13682  23.77656  21.61162   \n",
       "4      1.237680e+18  345.282593  21.183866  19.43718  17.58028  16.49747   \n",
       "...             ...         ...        ...       ...       ...       ...   \n",
       "99995  1.237679e+18   39.620709  -2.594074  22.16759  22.97586  21.90404   \n",
       "99996  1.237679e+18   29.493819  19.798874  22.69118  22.38628  20.45003   \n",
       "99997  1.237668e+18  224.587407  15.700707  21.16916  19.26997  18.20428   \n",
       "99998  1.237661e+18  212.268621  46.660365  25.35039  21.63757  19.91386   \n",
       "99999  1.237661e+18  196.896053  49.464643  22.62171  21.79745  20.60115   \n",
       "\n",
       "              i         z  run_ID  rerun_ID  cam_col  field_ID   spec_obj_ID  \\\n",
       "0      19.16573  18.79371    3606       301        2        79  6.543777e+18   \n",
       "1      21.16812  21.61427    4518       301        5       119  1.176014e+19   \n",
       "2      19.34857  18.94827    3606       301        2       120  5.152200e+18   \n",
       "3      20.50454  19.25010    4192       301        3       214  1.030107e+19   \n",
       "4      15.97711  15.54461    8102       301        3       137  6.891865e+18   \n",
       "...         ...       ...     ...       ...      ...       ...           ...   \n",
       "99995  21.30548  20.73569    7778       301        2       581  1.055431e+19   \n",
       "99996  19.75759  19.41526    7917       301        1       289  8.586351e+18   \n",
       "99997  17.69034  17.35221    5314       301        4       308  3.112008e+18   \n",
       "99998  19.07254  18.62482    3650       301        4       131  7.601080e+18   \n",
       "99999  20.00959  19.28075    3650       301        4        60  8.343152e+18   \n",
       "\n",
       "        class  redshift  plate    MJD  fiber_ID  \n",
       "0      GALAXY  0.634794   5812  56354       171  \n",
       "1      GALAXY  0.779136  10445  58158       427  \n",
       "2      GALAXY  0.644195   4576  55592       299  \n",
       "3      GALAXY  0.932346   9149  58039       775  \n",
       "4      GALAXY  0.116123   6121  56187       842  \n",
       "...       ...       ...    ...    ...       ...  \n",
       "99995  GALAXY  0.000000   9374  57749       438  \n",
       "99996  GALAXY  0.404895   7626  56934       866  \n",
       "99997  GALAXY  0.143366   2764  54535        74  \n",
       "99998  GALAXY  0.455040   6751  56368       470  \n",
       "99999  GALAXY  0.542944   7410  57104       851  \n",
       "\n",
       "[100000 rows x 18 columns]"
      ]
     },
     "execution_count": 20,
     "metadata": {},
     "output_type": "execute_result"
    }
   ],
   "source": [
    "star = pd.read_csv('star_classification.csv')\n",
    "star"
   ]
  },
  {
   "cell_type": "code",
   "execution_count": 21,
   "id": "576833dc-5d05-4850-9e5e-0371ef5af9c1",
   "metadata": {},
   "outputs": [
    {
     "name": "stdout",
     "output_type": "stream",
     "text": [
      "<class 'pandas.core.frame.DataFrame'>\n",
      "RangeIndex: 100000 entries, 0 to 99999\n",
      "Data columns (total 18 columns):\n",
      " #   Column       Non-Null Count   Dtype  \n",
      "---  ------       --------------   -----  \n",
      " 0   obj_ID       100000 non-null  float64\n",
      " 1   alpha        100000 non-null  float64\n",
      " 2   delta        100000 non-null  float64\n",
      " 3   u            100000 non-null  float64\n",
      " 4   g            100000 non-null  float64\n",
      " 5   r            100000 non-null  float64\n",
      " 6   i            100000 non-null  float64\n",
      " 7   z            100000 non-null  float64\n",
      " 8   run_ID       100000 non-null  int64  \n",
      " 9   rerun_ID     100000 non-null  int64  \n",
      " 10  cam_col      100000 non-null  int64  \n",
      " 11  field_ID     100000 non-null  int64  \n",
      " 12  spec_obj_ID  100000 non-null  float64\n",
      " 13  class        100000 non-null  object \n",
      " 14  redshift     100000 non-null  float64\n",
      " 15  plate        100000 non-null  int64  \n",
      " 16  MJD          100000 non-null  int64  \n",
      " 17  fiber_ID     100000 non-null  int64  \n",
      "dtypes: float64(10), int64(7), object(1)\n",
      "memory usage: 13.7+ MB\n"
     ]
    }
   ],
   "source": [
    "star.info()"
   ]
  },
  {
   "cell_type": "code",
   "execution_count": 22,
   "id": "0ca87144-242a-4ae8-b1e5-5503ca8490bd",
   "metadata": {},
   "outputs": [
    {
     "data": {
      "text/plain": [
       "(100000, 18)"
      ]
     },
     "execution_count": 22,
     "metadata": {},
     "output_type": "execute_result"
    }
   ],
   "source": [
    "star.shape"
   ]
  },
  {
   "cell_type": "code",
   "execution_count": 23,
   "id": "766570ca-2f90-4cae-8f6e-1126ce21a5e4",
   "metadata": {},
   "outputs": [],
   "source": [
    "star_renamed = star.rename({\"u\":\"ultra_filter\", \"g\":\"green_filter\", \"r\":\"red_filter\", \"i\":\"nearInfar_filter\", \"z\":\"infared_filter\", \"MJD\":\"modi_Julian_date\"}, axis = 1)"
   ]
  },
  {
   "cell_type": "code",
   "execution_count": 24,
   "id": "aca0cdd1-ec53-4845-8eff-d97822abea06",
   "metadata": {},
   "outputs": [
    {
     "data": {
      "text/html": [
       "<div>\n",
       "<style scoped>\n",
       "    .dataframe tbody tr th:only-of-type {\n",
       "        vertical-align: middle;\n",
       "    }\n",
       "\n",
       "    .dataframe tbody tr th {\n",
       "        vertical-align: top;\n",
       "    }\n",
       "\n",
       "    .dataframe thead th {\n",
       "        text-align: right;\n",
       "    }\n",
       "</style>\n",
       "<table border=\"1\" class=\"dataframe\">\n",
       "  <thead>\n",
       "    <tr style=\"text-align: right;\">\n",
       "      <th></th>\n",
       "      <th>obj_ID</th>\n",
       "      <th>alpha</th>\n",
       "      <th>delta</th>\n",
       "      <th>ultra_filter</th>\n",
       "      <th>green_filter</th>\n",
       "      <th>red_filter</th>\n",
       "      <th>nearInfar_filter</th>\n",
       "      <th>infared_filter</th>\n",
       "      <th>run_ID</th>\n",
       "      <th>rerun_ID</th>\n",
       "      <th>cam_col</th>\n",
       "      <th>field_ID</th>\n",
       "      <th>spec_obj_ID</th>\n",
       "      <th>class</th>\n",
       "      <th>redshift</th>\n",
       "      <th>plate</th>\n",
       "      <th>modi_Julian_date</th>\n",
       "      <th>fiber_ID</th>\n",
       "    </tr>\n",
       "  </thead>\n",
       "  <tbody>\n",
       "    <tr>\n",
       "      <th>0</th>\n",
       "      <td>1.237661e+18</td>\n",
       "      <td>135.689107</td>\n",
       "      <td>32.494632</td>\n",
       "      <td>23.87882</td>\n",
       "      <td>22.27530</td>\n",
       "      <td>20.39501</td>\n",
       "      <td>19.16573</td>\n",
       "      <td>18.79371</td>\n",
       "      <td>3606</td>\n",
       "      <td>301</td>\n",
       "      <td>2</td>\n",
       "      <td>79</td>\n",
       "      <td>6.543777e+18</td>\n",
       "      <td>GALAXY</td>\n",
       "      <td>0.634794</td>\n",
       "      <td>5812</td>\n",
       "      <td>56354</td>\n",
       "      <td>171</td>\n",
       "    </tr>\n",
       "    <tr>\n",
       "      <th>1</th>\n",
       "      <td>1.237665e+18</td>\n",
       "      <td>144.826101</td>\n",
       "      <td>31.274185</td>\n",
       "      <td>24.77759</td>\n",
       "      <td>22.83188</td>\n",
       "      <td>22.58444</td>\n",
       "      <td>21.16812</td>\n",
       "      <td>21.61427</td>\n",
       "      <td>4518</td>\n",
       "      <td>301</td>\n",
       "      <td>5</td>\n",
       "      <td>119</td>\n",
       "      <td>1.176014e+19</td>\n",
       "      <td>GALAXY</td>\n",
       "      <td>0.779136</td>\n",
       "      <td>10445</td>\n",
       "      <td>58158</td>\n",
       "      <td>427</td>\n",
       "    </tr>\n",
       "    <tr>\n",
       "      <th>2</th>\n",
       "      <td>1.237661e+18</td>\n",
       "      <td>142.188790</td>\n",
       "      <td>35.582444</td>\n",
       "      <td>25.26307</td>\n",
       "      <td>22.66389</td>\n",
       "      <td>20.60976</td>\n",
       "      <td>19.34857</td>\n",
       "      <td>18.94827</td>\n",
       "      <td>3606</td>\n",
       "      <td>301</td>\n",
       "      <td>2</td>\n",
       "      <td>120</td>\n",
       "      <td>5.152200e+18</td>\n",
       "      <td>GALAXY</td>\n",
       "      <td>0.644195</td>\n",
       "      <td>4576</td>\n",
       "      <td>55592</td>\n",
       "      <td>299</td>\n",
       "    </tr>\n",
       "    <tr>\n",
       "      <th>3</th>\n",
       "      <td>1.237663e+18</td>\n",
       "      <td>338.741038</td>\n",
       "      <td>-0.402828</td>\n",
       "      <td>22.13682</td>\n",
       "      <td>23.77656</td>\n",
       "      <td>21.61162</td>\n",
       "      <td>20.50454</td>\n",
       "      <td>19.25010</td>\n",
       "      <td>4192</td>\n",
       "      <td>301</td>\n",
       "      <td>3</td>\n",
       "      <td>214</td>\n",
       "      <td>1.030107e+19</td>\n",
       "      <td>GALAXY</td>\n",
       "      <td>0.932346</td>\n",
       "      <td>9149</td>\n",
       "      <td>58039</td>\n",
       "      <td>775</td>\n",
       "    </tr>\n",
       "    <tr>\n",
       "      <th>4</th>\n",
       "      <td>1.237680e+18</td>\n",
       "      <td>345.282593</td>\n",
       "      <td>21.183866</td>\n",
       "      <td>19.43718</td>\n",
       "      <td>17.58028</td>\n",
       "      <td>16.49747</td>\n",
       "      <td>15.97711</td>\n",
       "      <td>15.54461</td>\n",
       "      <td>8102</td>\n",
       "      <td>301</td>\n",
       "      <td>3</td>\n",
       "      <td>137</td>\n",
       "      <td>6.891865e+18</td>\n",
       "      <td>GALAXY</td>\n",
       "      <td>0.116123</td>\n",
       "      <td>6121</td>\n",
       "      <td>56187</td>\n",
       "      <td>842</td>\n",
       "    </tr>\n",
       "  </tbody>\n",
       "</table>\n",
       "</div>"
      ],
      "text/plain": [
       "         obj_ID       alpha      delta  ultra_filter  green_filter  \\\n",
       "0  1.237661e+18  135.689107  32.494632      23.87882      22.27530   \n",
       "1  1.237665e+18  144.826101  31.274185      24.77759      22.83188   \n",
       "2  1.237661e+18  142.188790  35.582444      25.26307      22.66389   \n",
       "3  1.237663e+18  338.741038  -0.402828      22.13682      23.77656   \n",
       "4  1.237680e+18  345.282593  21.183866      19.43718      17.58028   \n",
       "\n",
       "   red_filter  nearInfar_filter  infared_filter  run_ID  rerun_ID  cam_col  \\\n",
       "0    20.39501          19.16573        18.79371    3606       301        2   \n",
       "1    22.58444          21.16812        21.61427    4518       301        5   \n",
       "2    20.60976          19.34857        18.94827    3606       301        2   \n",
       "3    21.61162          20.50454        19.25010    4192       301        3   \n",
       "4    16.49747          15.97711        15.54461    8102       301        3   \n",
       "\n",
       "   field_ID   spec_obj_ID   class  redshift  plate  modi_Julian_date  fiber_ID  \n",
       "0        79  6.543777e+18  GALAXY  0.634794   5812             56354       171  \n",
       "1       119  1.176014e+19  GALAXY  0.779136  10445             58158       427  \n",
       "2       120  5.152200e+18  GALAXY  0.644195   4576             55592       299  \n",
       "3       214  1.030107e+19  GALAXY  0.932346   9149             58039       775  \n",
       "4       137  6.891865e+18  GALAXY  0.116123   6121             56187       842  "
      ]
     },
     "execution_count": 24,
     "metadata": {},
     "output_type": "execute_result"
    }
   ],
   "source": [
    "star_renamed.head()"
   ]
  },
  {
   "cell_type": "code",
   "execution_count": 25,
   "id": "9c229dff-b287-44e2-9137-89d5d0d999f9",
   "metadata": {},
   "outputs": [
    {
     "data": {
      "text/plain": [
       "obj_ID              0\n",
       "alpha               0\n",
       "delta               0\n",
       "ultra_filter        0\n",
       "green_filter        0\n",
       "red_filter          0\n",
       "nearInfar_filter    0\n",
       "infared_filter      0\n",
       "run_ID              0\n",
       "rerun_ID            0\n",
       "cam_col             0\n",
       "field_ID            0\n",
       "spec_obj_ID         0\n",
       "class               0\n",
       "redshift            0\n",
       "plate               0\n",
       "modi_Julian_date    0\n",
       "fiber_ID            0\n",
       "dtype: int64"
      ]
     },
     "execution_count": 25,
     "metadata": {},
     "output_type": "execute_result"
    }
   ],
   "source": [
    "star_renamed.isna().sum()"
   ]
  },
  {
   "cell_type": "code",
   "execution_count": 26,
   "id": "4dd7e73a-c674-47ae-a1ec-97cd7d53fca2",
   "metadata": {},
   "outputs": [
    {
     "data": {
      "text/html": [
       "<div>\n",
       "<style scoped>\n",
       "    .dataframe tbody tr th:only-of-type {\n",
       "        vertical-align: middle;\n",
       "    }\n",
       "\n",
       "    .dataframe tbody tr th {\n",
       "        vertical-align: top;\n",
       "    }\n",
       "\n",
       "    .dataframe thead th {\n",
       "        text-align: right;\n",
       "    }\n",
       "</style>\n",
       "<table border=\"1\" class=\"dataframe\">\n",
       "  <thead>\n",
       "    <tr style=\"text-align: right;\">\n",
       "      <th></th>\n",
       "      <th>obj_ID</th>\n",
       "      <th>alpha</th>\n",
       "      <th>delta</th>\n",
       "      <th>ultra_filter</th>\n",
       "      <th>green_filter</th>\n",
       "      <th>red_filter</th>\n",
       "      <th>nearInfar_filter</th>\n",
       "      <th>infared_filter</th>\n",
       "      <th>run_ID</th>\n",
       "      <th>rerun_ID</th>\n",
       "      <th>cam_col</th>\n",
       "      <th>field_ID</th>\n",
       "      <th>spec_obj_ID</th>\n",
       "      <th>redshift</th>\n",
       "      <th>plate</th>\n",
       "      <th>modi_Julian_date</th>\n",
       "      <th>fiber_ID</th>\n",
       "    </tr>\n",
       "  </thead>\n",
       "  <tbody>\n",
       "    <tr>\n",
       "      <th>count</th>\n",
       "      <td>1.000000e+05</td>\n",
       "      <td>100000.000000</td>\n",
       "      <td>100000.000000</td>\n",
       "      <td>100000.000000</td>\n",
       "      <td>100000.000000</td>\n",
       "      <td>100000.000000</td>\n",
       "      <td>100000.000000</td>\n",
       "      <td>100000.000000</td>\n",
       "      <td>100000.000000</td>\n",
       "      <td>100000.0</td>\n",
       "      <td>100000.000000</td>\n",
       "      <td>100000.000000</td>\n",
       "      <td>1.000000e+05</td>\n",
       "      <td>100000.000000</td>\n",
       "      <td>100000.000000</td>\n",
       "      <td>100000.000000</td>\n",
       "      <td>100000.000000</td>\n",
       "    </tr>\n",
       "    <tr>\n",
       "      <th>mean</th>\n",
       "      <td>1.237665e+18</td>\n",
       "      <td>177.629117</td>\n",
       "      <td>24.135305</td>\n",
       "      <td>21.980468</td>\n",
       "      <td>20.531387</td>\n",
       "      <td>19.645762</td>\n",
       "      <td>19.084854</td>\n",
       "      <td>18.668810</td>\n",
       "      <td>4481.366060</td>\n",
       "      <td>301.0</td>\n",
       "      <td>3.511610</td>\n",
       "      <td>186.130520</td>\n",
       "      <td>5.783882e+18</td>\n",
       "      <td>0.576661</td>\n",
       "      <td>5137.009660</td>\n",
       "      <td>55588.647500</td>\n",
       "      <td>449.312740</td>\n",
       "    </tr>\n",
       "    <tr>\n",
       "      <th>std</th>\n",
       "      <td>8.438560e+12</td>\n",
       "      <td>96.502241</td>\n",
       "      <td>19.644665</td>\n",
       "      <td>31.769291</td>\n",
       "      <td>31.750292</td>\n",
       "      <td>1.854760</td>\n",
       "      <td>1.757895</td>\n",
       "      <td>31.728152</td>\n",
       "      <td>1964.764593</td>\n",
       "      <td>0.0</td>\n",
       "      <td>1.586912</td>\n",
       "      <td>149.011073</td>\n",
       "      <td>3.324016e+18</td>\n",
       "      <td>0.730707</td>\n",
       "      <td>2952.303351</td>\n",
       "      <td>1808.484233</td>\n",
       "      <td>272.498404</td>\n",
       "    </tr>\n",
       "    <tr>\n",
       "      <th>min</th>\n",
       "      <td>1.237646e+18</td>\n",
       "      <td>0.005528</td>\n",
       "      <td>-18.785328</td>\n",
       "      <td>-9999.000000</td>\n",
       "      <td>-9999.000000</td>\n",
       "      <td>9.822070</td>\n",
       "      <td>9.469903</td>\n",
       "      <td>-9999.000000</td>\n",
       "      <td>109.000000</td>\n",
       "      <td>301.0</td>\n",
       "      <td>1.000000</td>\n",
       "      <td>11.000000</td>\n",
       "      <td>2.995191e+17</td>\n",
       "      <td>-0.009971</td>\n",
       "      <td>266.000000</td>\n",
       "      <td>51608.000000</td>\n",
       "      <td>1.000000</td>\n",
       "    </tr>\n",
       "    <tr>\n",
       "      <th>25%</th>\n",
       "      <td>1.237659e+18</td>\n",
       "      <td>127.518222</td>\n",
       "      <td>5.146771</td>\n",
       "      <td>20.352353</td>\n",
       "      <td>18.965230</td>\n",
       "      <td>18.135828</td>\n",
       "      <td>17.732285</td>\n",
       "      <td>17.460677</td>\n",
       "      <td>3187.000000</td>\n",
       "      <td>301.0</td>\n",
       "      <td>2.000000</td>\n",
       "      <td>82.000000</td>\n",
       "      <td>2.844138e+18</td>\n",
       "      <td>0.054517</td>\n",
       "      <td>2526.000000</td>\n",
       "      <td>54234.000000</td>\n",
       "      <td>221.000000</td>\n",
       "    </tr>\n",
       "    <tr>\n",
       "      <th>50%</th>\n",
       "      <td>1.237663e+18</td>\n",
       "      <td>180.900700</td>\n",
       "      <td>23.645922</td>\n",
       "      <td>22.179135</td>\n",
       "      <td>21.099835</td>\n",
       "      <td>20.125290</td>\n",
       "      <td>19.405145</td>\n",
       "      <td>19.004595</td>\n",
       "      <td>4188.000000</td>\n",
       "      <td>301.0</td>\n",
       "      <td>4.000000</td>\n",
       "      <td>146.000000</td>\n",
       "      <td>5.614883e+18</td>\n",
       "      <td>0.424173</td>\n",
       "      <td>4987.000000</td>\n",
       "      <td>55868.500000</td>\n",
       "      <td>433.000000</td>\n",
       "    </tr>\n",
       "    <tr>\n",
       "      <th>75%</th>\n",
       "      <td>1.237668e+18</td>\n",
       "      <td>233.895005</td>\n",
       "      <td>39.901550</td>\n",
       "      <td>23.687440</td>\n",
       "      <td>22.123767</td>\n",
       "      <td>21.044785</td>\n",
       "      <td>20.396495</td>\n",
       "      <td>19.921120</td>\n",
       "      <td>5326.000000</td>\n",
       "      <td>301.0</td>\n",
       "      <td>5.000000</td>\n",
       "      <td>241.000000</td>\n",
       "      <td>8.332144e+18</td>\n",
       "      <td>0.704154</td>\n",
       "      <td>7400.250000</td>\n",
       "      <td>56777.000000</td>\n",
       "      <td>645.000000</td>\n",
       "    </tr>\n",
       "    <tr>\n",
       "      <th>max</th>\n",
       "      <td>1.237681e+18</td>\n",
       "      <td>359.999810</td>\n",
       "      <td>83.000519</td>\n",
       "      <td>32.781390</td>\n",
       "      <td>31.602240</td>\n",
       "      <td>29.571860</td>\n",
       "      <td>32.141470</td>\n",
       "      <td>29.383740</td>\n",
       "      <td>8162.000000</td>\n",
       "      <td>301.0</td>\n",
       "      <td>6.000000</td>\n",
       "      <td>989.000000</td>\n",
       "      <td>1.412694e+19</td>\n",
       "      <td>7.011245</td>\n",
       "      <td>12547.000000</td>\n",
       "      <td>58932.000000</td>\n",
       "      <td>1000.000000</td>\n",
       "    </tr>\n",
       "  </tbody>\n",
       "</table>\n",
       "</div>"
      ],
      "text/plain": [
       "             obj_ID          alpha          delta   ultra_filter  \\\n",
       "count  1.000000e+05  100000.000000  100000.000000  100000.000000   \n",
       "mean   1.237665e+18     177.629117      24.135305      21.980468   \n",
       "std    8.438560e+12      96.502241      19.644665      31.769291   \n",
       "min    1.237646e+18       0.005528     -18.785328   -9999.000000   \n",
       "25%    1.237659e+18     127.518222       5.146771      20.352353   \n",
       "50%    1.237663e+18     180.900700      23.645922      22.179135   \n",
       "75%    1.237668e+18     233.895005      39.901550      23.687440   \n",
       "max    1.237681e+18     359.999810      83.000519      32.781390   \n",
       "\n",
       "        green_filter     red_filter  nearInfar_filter  infared_filter  \\\n",
       "count  100000.000000  100000.000000     100000.000000   100000.000000   \n",
       "mean       20.531387      19.645762         19.084854       18.668810   \n",
       "std        31.750292       1.854760          1.757895       31.728152   \n",
       "min     -9999.000000       9.822070          9.469903    -9999.000000   \n",
       "25%        18.965230      18.135828         17.732285       17.460677   \n",
       "50%        21.099835      20.125290         19.405145       19.004595   \n",
       "75%        22.123767      21.044785         20.396495       19.921120   \n",
       "max        31.602240      29.571860         32.141470       29.383740   \n",
       "\n",
       "              run_ID  rerun_ID        cam_col       field_ID   spec_obj_ID  \\\n",
       "count  100000.000000  100000.0  100000.000000  100000.000000  1.000000e+05   \n",
       "mean     4481.366060     301.0       3.511610     186.130520  5.783882e+18   \n",
       "std      1964.764593       0.0       1.586912     149.011073  3.324016e+18   \n",
       "min       109.000000     301.0       1.000000      11.000000  2.995191e+17   \n",
       "25%      3187.000000     301.0       2.000000      82.000000  2.844138e+18   \n",
       "50%      4188.000000     301.0       4.000000     146.000000  5.614883e+18   \n",
       "75%      5326.000000     301.0       5.000000     241.000000  8.332144e+18   \n",
       "max      8162.000000     301.0       6.000000     989.000000  1.412694e+19   \n",
       "\n",
       "            redshift          plate  modi_Julian_date       fiber_ID  \n",
       "count  100000.000000  100000.000000     100000.000000  100000.000000  \n",
       "mean        0.576661    5137.009660      55588.647500     449.312740  \n",
       "std         0.730707    2952.303351       1808.484233     272.498404  \n",
       "min        -0.009971     266.000000      51608.000000       1.000000  \n",
       "25%         0.054517    2526.000000      54234.000000     221.000000  \n",
       "50%         0.424173    4987.000000      55868.500000     433.000000  \n",
       "75%         0.704154    7400.250000      56777.000000     645.000000  \n",
       "max         7.011245   12547.000000      58932.000000    1000.000000  "
      ]
     },
     "execution_count": 26,
     "metadata": {},
     "output_type": "execute_result"
    }
   ],
   "source": [
    "star_renamed.describe()"
   ]
  },
  {
   "cell_type": "code",
   "execution_count": 27,
   "id": "fba2ae6f-e8e6-425b-938e-e40f3ca2d3e1",
   "metadata": {},
   "outputs": [
    {
     "data": {
      "text/html": [
       "<div>\n",
       "<style scoped>\n",
       "    .dataframe tbody tr th:only-of-type {\n",
       "        vertical-align: middle;\n",
       "    }\n",
       "\n",
       "    .dataframe tbody tr th {\n",
       "        vertical-align: top;\n",
       "    }\n",
       "\n",
       "    .dataframe thead th {\n",
       "        text-align: right;\n",
       "    }\n",
       "</style>\n",
       "<table border=\"1\" class=\"dataframe\">\n",
       "  <thead>\n",
       "    <tr style=\"text-align: right;\">\n",
       "      <th></th>\n",
       "      <th>alpha</th>\n",
       "      <th>delta</th>\n",
       "      <th>ultra_filter</th>\n",
       "      <th>green_filter</th>\n",
       "      <th>red_filter</th>\n",
       "      <th>nearInfar_filter</th>\n",
       "      <th>infared_filter</th>\n",
       "      <th>cam_col</th>\n",
       "      <th>class</th>\n",
       "      <th>redshift</th>\n",
       "      <th>plate</th>\n",
       "      <th>modi_Julian_date</th>\n",
       "    </tr>\n",
       "  </thead>\n",
       "  <tbody>\n",
       "    <tr>\n",
       "      <th>0</th>\n",
       "      <td>135.689107</td>\n",
       "      <td>32.494632</td>\n",
       "      <td>23.87882</td>\n",
       "      <td>22.27530</td>\n",
       "      <td>20.39501</td>\n",
       "      <td>19.16573</td>\n",
       "      <td>18.79371</td>\n",
       "      <td>2</td>\n",
       "      <td>GALAXY</td>\n",
       "      <td>0.634794</td>\n",
       "      <td>5812</td>\n",
       "      <td>56354</td>\n",
       "    </tr>\n",
       "    <tr>\n",
       "      <th>1</th>\n",
       "      <td>144.826101</td>\n",
       "      <td>31.274185</td>\n",
       "      <td>24.77759</td>\n",
       "      <td>22.83188</td>\n",
       "      <td>22.58444</td>\n",
       "      <td>21.16812</td>\n",
       "      <td>21.61427</td>\n",
       "      <td>5</td>\n",
       "      <td>GALAXY</td>\n",
       "      <td>0.779136</td>\n",
       "      <td>10445</td>\n",
       "      <td>58158</td>\n",
       "    </tr>\n",
       "    <tr>\n",
       "      <th>2</th>\n",
       "      <td>142.188790</td>\n",
       "      <td>35.582444</td>\n",
       "      <td>25.26307</td>\n",
       "      <td>22.66389</td>\n",
       "      <td>20.60976</td>\n",
       "      <td>19.34857</td>\n",
       "      <td>18.94827</td>\n",
       "      <td>2</td>\n",
       "      <td>GALAXY</td>\n",
       "      <td>0.644195</td>\n",
       "      <td>4576</td>\n",
       "      <td>55592</td>\n",
       "    </tr>\n",
       "    <tr>\n",
       "      <th>3</th>\n",
       "      <td>338.741038</td>\n",
       "      <td>-0.402828</td>\n",
       "      <td>22.13682</td>\n",
       "      <td>23.77656</td>\n",
       "      <td>21.61162</td>\n",
       "      <td>20.50454</td>\n",
       "      <td>19.25010</td>\n",
       "      <td>3</td>\n",
       "      <td>GALAXY</td>\n",
       "      <td>0.932346</td>\n",
       "      <td>9149</td>\n",
       "      <td>58039</td>\n",
       "    </tr>\n",
       "    <tr>\n",
       "      <th>4</th>\n",
       "      <td>345.282593</td>\n",
       "      <td>21.183866</td>\n",
       "      <td>19.43718</td>\n",
       "      <td>17.58028</td>\n",
       "      <td>16.49747</td>\n",
       "      <td>15.97711</td>\n",
       "      <td>15.54461</td>\n",
       "      <td>3</td>\n",
       "      <td>GALAXY</td>\n",
       "      <td>0.116123</td>\n",
       "      <td>6121</td>\n",
       "      <td>56187</td>\n",
       "    </tr>\n",
       "    <tr>\n",
       "      <th>...</th>\n",
       "      <td>...</td>\n",
       "      <td>...</td>\n",
       "      <td>...</td>\n",
       "      <td>...</td>\n",
       "      <td>...</td>\n",
       "      <td>...</td>\n",
       "      <td>...</td>\n",
       "      <td>...</td>\n",
       "      <td>...</td>\n",
       "      <td>...</td>\n",
       "      <td>...</td>\n",
       "      <td>...</td>\n",
       "    </tr>\n",
       "    <tr>\n",
       "      <th>99995</th>\n",
       "      <td>39.620709</td>\n",
       "      <td>-2.594074</td>\n",
       "      <td>22.16759</td>\n",
       "      <td>22.97586</td>\n",
       "      <td>21.90404</td>\n",
       "      <td>21.30548</td>\n",
       "      <td>20.73569</td>\n",
       "      <td>2</td>\n",
       "      <td>GALAXY</td>\n",
       "      <td>0.000000</td>\n",
       "      <td>9374</td>\n",
       "      <td>57749</td>\n",
       "    </tr>\n",
       "    <tr>\n",
       "      <th>99996</th>\n",
       "      <td>29.493819</td>\n",
       "      <td>19.798874</td>\n",
       "      <td>22.69118</td>\n",
       "      <td>22.38628</td>\n",
       "      <td>20.45003</td>\n",
       "      <td>19.75759</td>\n",
       "      <td>19.41526</td>\n",
       "      <td>1</td>\n",
       "      <td>GALAXY</td>\n",
       "      <td>0.404895</td>\n",
       "      <td>7626</td>\n",
       "      <td>56934</td>\n",
       "    </tr>\n",
       "    <tr>\n",
       "      <th>99997</th>\n",
       "      <td>224.587407</td>\n",
       "      <td>15.700707</td>\n",
       "      <td>21.16916</td>\n",
       "      <td>19.26997</td>\n",
       "      <td>18.20428</td>\n",
       "      <td>17.69034</td>\n",
       "      <td>17.35221</td>\n",
       "      <td>4</td>\n",
       "      <td>GALAXY</td>\n",
       "      <td>0.143366</td>\n",
       "      <td>2764</td>\n",
       "      <td>54535</td>\n",
       "    </tr>\n",
       "    <tr>\n",
       "      <th>99998</th>\n",
       "      <td>212.268621</td>\n",
       "      <td>46.660365</td>\n",
       "      <td>25.35039</td>\n",
       "      <td>21.63757</td>\n",
       "      <td>19.91386</td>\n",
       "      <td>19.07254</td>\n",
       "      <td>18.62482</td>\n",
       "      <td>4</td>\n",
       "      <td>GALAXY</td>\n",
       "      <td>0.455040</td>\n",
       "      <td>6751</td>\n",
       "      <td>56368</td>\n",
       "    </tr>\n",
       "    <tr>\n",
       "      <th>99999</th>\n",
       "      <td>196.896053</td>\n",
       "      <td>49.464643</td>\n",
       "      <td>22.62171</td>\n",
       "      <td>21.79745</td>\n",
       "      <td>20.60115</td>\n",
       "      <td>20.00959</td>\n",
       "      <td>19.28075</td>\n",
       "      <td>4</td>\n",
       "      <td>GALAXY</td>\n",
       "      <td>0.542944</td>\n",
       "      <td>7410</td>\n",
       "      <td>57104</td>\n",
       "    </tr>\n",
       "  </tbody>\n",
       "</table>\n",
       "<p>100000 rows × 12 columns</p>\n",
       "</div>"
      ],
      "text/plain": [
       "            alpha      delta  ultra_filter  green_filter  red_filter  \\\n",
       "0      135.689107  32.494632      23.87882      22.27530    20.39501   \n",
       "1      144.826101  31.274185      24.77759      22.83188    22.58444   \n",
       "2      142.188790  35.582444      25.26307      22.66389    20.60976   \n",
       "3      338.741038  -0.402828      22.13682      23.77656    21.61162   \n",
       "4      345.282593  21.183866      19.43718      17.58028    16.49747   \n",
       "...           ...        ...           ...           ...         ...   \n",
       "99995   39.620709  -2.594074      22.16759      22.97586    21.90404   \n",
       "99996   29.493819  19.798874      22.69118      22.38628    20.45003   \n",
       "99997  224.587407  15.700707      21.16916      19.26997    18.20428   \n",
       "99998  212.268621  46.660365      25.35039      21.63757    19.91386   \n",
       "99999  196.896053  49.464643      22.62171      21.79745    20.60115   \n",
       "\n",
       "       nearInfar_filter  infared_filter  cam_col   class  redshift  plate  \\\n",
       "0              19.16573        18.79371        2  GALAXY  0.634794   5812   \n",
       "1              21.16812        21.61427        5  GALAXY  0.779136  10445   \n",
       "2              19.34857        18.94827        2  GALAXY  0.644195   4576   \n",
       "3              20.50454        19.25010        3  GALAXY  0.932346   9149   \n",
       "4              15.97711        15.54461        3  GALAXY  0.116123   6121   \n",
       "...                 ...             ...      ...     ...       ...    ...   \n",
       "99995          21.30548        20.73569        2  GALAXY  0.000000   9374   \n",
       "99996          19.75759        19.41526        1  GALAXY  0.404895   7626   \n",
       "99997          17.69034        17.35221        4  GALAXY  0.143366   2764   \n",
       "99998          19.07254        18.62482        4  GALAXY  0.455040   6751   \n",
       "99999          20.00959        19.28075        4  GALAXY  0.542944   7410   \n",
       "\n",
       "       modi_Julian_date  \n",
       "0                 56354  \n",
       "1                 58158  \n",
       "2                 55592  \n",
       "3                 58039  \n",
       "4                 56187  \n",
       "...                 ...  \n",
       "99995             57749  \n",
       "99996             56934  \n",
       "99997             54535  \n",
       "99998             56368  \n",
       "99999             57104  \n",
       "\n",
       "[100000 rows x 12 columns]"
      ]
     },
     "execution_count": 27,
     "metadata": {},
     "output_type": "execute_result"
    }
   ],
   "source": [
    "start_Ids_dropped = star_renamed.drop(columns=['obj_ID', 'run_ID', 'rerun_ID', 'field_ID', 'spec_obj_ID', 'fiber_ID'])\n",
    "start_Ids_dropped"
   ]
  },
  {
   "cell_type": "code",
   "execution_count": 28,
   "id": "2f85c658-4431-4d1d-b193-36f90155e096",
   "metadata": {},
   "outputs": [
    {
     "data": {
      "text/plain": [
       "<AxesSubplot:xlabel='class', ylabel='alpha'>"
      ]
     },
     "execution_count": 28,
     "metadata": {},
     "output_type": "execute_result"
    },
    {
     "data": {
      "image/png": "[encoded data removed]",
      "text/plain": [
       "<Figure size 432x288 with 1 Axes>"
      ]
     },
     "metadata": {
      "needs_background": "light"
     },
     "output_type": "display_data"
    }
   ],
   "source": [
    "sns.barplot(x=\"class\", y=\"alpha\", data=start_Ids_dropped)"
   ]
  },
  {
   "cell_type": "code",
   "execution_count": 29,
   "id": "a544009d-75c3-43a0-aa7f-42e81b9da25b",
   "metadata": {},
   "outputs": [
    {
     "ename": "SyntaxError",
     "evalue": "invalid syntax (2262220836.py, line 1)",
     "output_type": "error",
     "traceback": [
      "\u001b[1;36m  Input \u001b[1;32mIn [29]\u001b[1;36m\u001b[0m\n\u001b[1;33m    The above graph shows that quasars(QSO) is the star with the highest alpha(Right Ascension angle (at J2000 epoch)) spectral characteristic.\u001b[0m\n\u001b[1;37m        ^\u001b[0m\n\u001b[1;31mSyntaxError\u001b[0m\u001b[1;31m:\u001b[0m invalid syntax\n"
     ]
    }
   ],
   "source": [
    "The above graph shows that quasars(QSO) is the star with the highest alpha(Right Ascension angle (at J2000 epoch)) spectral characteristic."
   ]
  },
  {
   "cell_type": "code",
   "execution_count": 30,
   "id": "03c8934d-4f56-46c1-ba08-1208135bcd88",
   "metadata": {},
   "outputs": [
    {
     "data": {
      "text/plain": [
       "<AxesSubplot:xlabel='class', ylabel='delta'>"
      ]
     },
     "execution_count": 30,
     "metadata": {},
     "output_type": "execute_result"
    },
    {
     "data": {
      "image/png": "[encoded data removed]",
      "text/plain": [
       "<Figure size 432x288 with 1 Axes>"
      ]
     },
     "metadata": {
      "needs_background": "light"
     },
     "output_type": "display_data"
    }
   ],
   "source": [
    "sns.barplot(x=\"class\", y=\"delta\", data=start_Ids_dropped)"
   ]
  },
  {
   "cell_type": "code",
   "execution_count": 31,
   "id": "d0389d7f-c64c-4b0a-8aa9-c3ebc153d393",
   "metadata": {},
   "outputs": [
    {
     "ename": "SyntaxError",
     "evalue": "invalid syntax (1435484205.py, line 1)",
     "output_type": "error",
     "traceback": [
      "\u001b[1;36m  Input \u001b[1;32mIn [31]\u001b[1;36m\u001b[0m\n\u001b[1;33m    The above graph shows that quasars(QSO) is the star with the highest delta(Declination angle (at J2000 epoch)) spectral characteristic.\u001b[0m\n\u001b[1;37m        ^\u001b[0m\n\u001b[1;31mSyntaxError\u001b[0m\u001b[1;31m:\u001b[0m invalid syntax\n"
     ]
    }
   ],
   "source": [
    "The above graph shows that quasars(QSO) is the star with the highest delta(Declination angle (at J2000 epoch)) spectral characteristic."
   ]
  },
  {
   "cell_type": "code",
   "execution_count": 32,
   "id": "6dd5d5db-73e8-4623-94ec-221c05911906",
   "metadata": {},
   "outputs": [
    {
     "data": {
      "text/plain": [
       "<AxesSubplot:xlabel='class', ylabel='ultra_filter'>"
      ]
     },
     "execution_count": 32,
     "metadata": {},
     "output_type": "execute_result"
    },
    {
     "data": {
      "image/png": "[encoded data removed]",
      "text/plain": [
       "<Figure size 432x288 with 1 Axes>"
      ]
     },
     "metadata": {
      "needs_background": "light"
     },
     "output_type": "display_data"
    }
   ],
   "source": [
    "sns.barplot(x=\"class\", y=\"ultra_filter\", data=start_Ids_dropped)"
   ]
  },
  {
   "cell_type": "code",
   "execution_count": null,
   "id": "54a28ae1-b0e1-445c-9862-a4c0041e821c",
   "metadata": {},
   "outputs": [],
   "source": [
    "The above graph shows that galaxy has the highest Ultraviolet filter in the photometric system spectral characteristic."
   ]
  },
  {
   "cell_type": "code",
   "execution_count": 33,
   "id": "4c9365ac-f226-49d5-80b4-917a94a0e624",
   "metadata": {},
   "outputs": [
    {
     "data": {
      "text/plain": [
       "<AxesSubplot:xlabel='class', ylabel='green_filter'>"
      ]
     },
     "execution_count": 33,
     "metadata": {},
     "output_type": "execute_result"
    },
    {
     "data": {
      "image/png": "[encoded data removed]",
      "text/plain": [
       "<Figure size 432x288 with 1 Axes>"
      ]
     },
     "metadata": {
      "needs_background": "light"
     },
     "output_type": "display_data"
    }
   ],
   "source": [
    "sns.barplot(x=\"class\", y=\"green_filter\", data=start_Ids_dropped)"
   ]
  },
  {
   "cell_type": "code",
   "execution_count": null,
   "id": "a9a6b2f8-db7d-41b3-b840-6008f910d6d4",
   "metadata": {},
   "outputs": [],
   "source": [
    "The above graph shows that galaxy and quasars(QSO) are both of high Green filter in the photometric system spectral characteristic."
   ]
  },
  {
   "cell_type": "code",
   "execution_count": 34,
   "id": "1b4bf4bc-d050-4b80-9138-fc580b32592c",
   "metadata": {},
   "outputs": [
    {
     "data": {
      "text/plain": [
       "<AxesSubplot:xlabel='class', ylabel='red_filter'>"
      ]
     },
     "execution_count": 34,
     "metadata": {},
     "output_type": "execute_result"
    },
    {
     "data": {
      "image/png": "[encoded data removed]",
      "text/plain": [
       "<Figure size 432x288 with 1 Axes>"
      ]
     },
     "metadata": {
      "needs_background": "light"
     },
     "output_type": "display_data"
    }
   ],
   "source": [
    "sns.barplot(x=\"class\", y=\"red_filter\", data=start_Ids_dropped)"
   ]
  },
  {
   "cell_type": "code",
   "execution_count": null,
   "id": "2ebc85eb-5701-44bb-9abb-6dcf2cc0fd4b",
   "metadata": {},
   "outputs": [],
   "source": [
    "The above graph shows that quasars(QSO) has the highest Red filter in the photometric system spectral characteristic."
   ]
  },
  {
   "cell_type": "code",
   "execution_count": 35,
   "id": "67b4dc90-3f7f-40b4-9d77-b14c4d3a076b",
   "metadata": {},
   "outputs": [
    {
     "data": {
      "text/plain": [
       "<AxesSubplot:xlabel='class', ylabel='nearInfar_filter'>"
      ]
     },
     "execution_count": 35,
     "metadata": {},
     "output_type": "execute_result"
    },
    {
     "data": {
      "image/png": "[encoded data removed]",
      "text/plain": [
       "<Figure size 432x288 with 1 Axes>"
      ]
     },
     "metadata": {
      "needs_background": "light"
     },
     "output_type": "display_data"
    }
   ],
   "source": [
    "sns.barplot(x=\"class\", y=\"nearInfar_filter\", data=start_Ids_dropped)"
   ]
  },
  {
   "cell_type": "code",
   "execution_count": null,
   "id": "3069a60f-eaf7-4c47-97bc-a3fc11430a71",
   "metadata": {},
   "outputs": [],
   "source": [
    "The above graph shows that quasars(QSO) has the highest Near Infrared filter in the photometric system spectral characteristic."
   ]
  },
  {
   "cell_type": "code",
   "execution_count": 36,
   "id": "fbc9ff14-3d29-430e-9290-1a67f59d9cd8",
   "metadata": {},
   "outputs": [
    {
     "data": {
      "text/plain": [
       "<AxesSubplot:xlabel='class', ylabel='infared_filter'>"
      ]
     },
     "execution_count": 36,
     "metadata": {},
     "output_type": "execute_result"
    },
    {
     "data": {
      "image/png": "[encoded data removed]",
      "text/plain": [
       "<Figure size 432x288 with 1 Axes>"
      ]
     },
     "metadata": {
      "needs_background": "light"
     },
     "output_type": "display_data"
    }
   ],
   "source": [
    "sns.barplot(x=\"class\", y=\"infared_filter\", data=start_Ids_dropped)"
   ]
  },
  {
   "cell_type": "code",
   "execution_count": null,
   "id": "bc0f400e-c9ce-4480-a5c2-da206c831675",
   "metadata": {},
   "outputs": [],
   "source": [
    "The above graph shows that quasars(QSO) has the highest Infrared filter in the photometric system spectral characteristic."
   ]
  },
  {
   "cell_type": "code",
   "execution_count": 37,
   "id": "17e83d1a-9fb1-4229-a200-59d4bb886504",
   "metadata": {},
   "outputs": [
    {
     "data": {
      "text/plain": [
       "<AxesSubplot:xlabel='class', ylabel='cam_col'>"
      ]
     },
     "execution_count": 37,
     "metadata": {},
     "output_type": "execute_result"
    },
    {
     "data": {
      "image/png": "[encoded data removed]",
      "text/plain": [
       "<Figure size 432x288 with 1 Axes>"
      ]
     },
     "metadata": {
      "needs_background": "light"
     },
     "output_type": "display_data"
    }
   ],
   "source": [
    "sns.barplot(x=\"class\", y=\"cam_col\", data=start_Ids_dropped)"
   ]
  },
  {
   "cell_type": "code",
   "execution_count": null,
   "id": "5aea095c-2823-405d-be41-305892442eb8",
   "metadata": {},
   "outputs": [],
   "source": [
    "The above graph shows that star has the slightest highest Camera column to identify the scanline within the run as spectral characteristic."
   ]
  },
  {
   "cell_type": "code",
   "execution_count": 38,
   "id": "d3c5370c-281c-4c36-8333-86522b97c3b5",
   "metadata": {},
   "outputs": [
    {
     "data": {
      "text/plain": [
       "<AxesSubplot:xlabel='class', ylabel='redshift'>"
      ]
     },
     "execution_count": 38,
     "metadata": {},
     "output_type": "execute_result"
    },
    {
     "data": {
      "image/png": "[encoded data removed]",
      "text/plain": [
       "<Figure size 432x288 with 1 Axes>"
      ]
     },
     "metadata": {
      "needs_background": "light"
     },
     "output_type": "display_data"
    }
   ],
   "source": [
    "sns.barplot(x=\"class\", y=\"redshift\", data=start_Ids_dropped)"
   ]
  },
  {
   "cell_type": "code",
   "execution_count": null,
   "id": "ec4660ba-cef2-4f59-9ed1-9ee1719a820e",
   "metadata": {},
   "outputs": [],
   "source": [
    "The above graph shows that just galaxy and quasars(QSO) stars have redshift value based on the increase in wavelength as spectral characteristic and quasars(QSO) appears the higher."
   ]
  },
  {
   "cell_type": "code",
   "execution_count": 39,
   "id": "a5908b6f-f8e6-41f5-aee7-1d0b9728b604",
   "metadata": {},
   "outputs": [
    {
     "data": {
      "text/plain": [
       "<AxesSubplot:xlabel='class', ylabel='plate'>"
      ]
     },
     "execution_count": 39,
     "metadata": {},
     "output_type": "execute_result"
    },
    {
     "data": {
      "image/png": "[encoded data removed]",
      "text/plain": [
       "<Figure size 432x288 with 1 Axes>"
      ]
     },
     "metadata": {
      "needs_background": "light"
     },
     "output_type": "display_data"
    }
   ],
   "source": [
    "sns.barplot(x=\"class\", y=\"plate\", data=start_Ids_dropped)"
   ]
  },
  {
   "cell_type": "code",
   "execution_count": null,
   "id": "7e6b6d43-534e-463c-84d8-87375337f1bb",
   "metadata": {},
   "outputs": [],
   "source": [
    "The above graph shows that just galaxy and quasars(QSO) stars have plate ID, identifies each plate in SDSS as spectral characteristic and quasars(QSO) appears the higher."
   ]
  },
  {
   "cell_type": "code",
   "execution_count": 40,
   "id": "2a55de7c-1a77-4501-abf2-c3e8fa9a3eaa",
   "metadata": {},
   "outputs": [
    {
     "data": {
      "text/plain": [
       "<AxesSubplot:xlabel='class', ylabel='modi_Julian_date'>"
      ]
     },
     "execution_count": 40,
     "metadata": {},
     "output_type": "execute_result"
    },
    {
     "data": {
      "image/png": "[encoded data removed]",
      "text/plain": [
       "<Figure size 432x288 with 1 Axes>"
      ]
     },
     "metadata": {
      "needs_background": "light"
     },
     "output_type": "display_data"
    }
   ],
   "source": [
    "sns.barplot(x=\"class\", y=\"modi_Julian_date\", data=start_Ids_dropped)"
   ]
  },
  {
   "cell_type": "code",
   "execution_count": null,
   "id": "fb6867a2-e922-4ad9-b350-07e594983225",
   "metadata": {},
   "outputs": [],
   "source": [
    "The above graph shows that all the three stars classes are of high Modified Julian Date as spectral characteristic and quasars(QSO) slightly appears the highest."
   ]
  },
  {
   "cell_type": "code",
   "execution_count": 41,
   "id": "bf2784c3-9130-4315-a33a-1b7d56cade4c",
   "metadata": {},
   "outputs": [
    {
     "data": {
      "text/plain": [
       "<AxesSubplot:>"
      ]
     },
     "execution_count": 41,
     "metadata": {},
     "output_type": "execute_result"
    },
    {
     "data": {
      "image/png": "[encoded data removed]",
      "text/plain": [
       "<Figure size 1152x720 with 1 Axes>"
      ]
     },
     "metadata": {
      "needs_background": "light"
     },
     "output_type": "display_data"
    }
   ],
   "source": [
    "plt.figure(figsize=(16, 10))\n",
    "star_renamed.boxplot()"
   ]
  },
  {
   "cell_type": "code",
   "execution_count": null,
   "id": "2666987a-3762-497d-a2bb-bb7d916238aa",
   "metadata": {},
   "outputs": [],
   "source": [
    "start_Ids_dropped.describe()"
   ]
  },
  {
   "cell_type": "code",
   "execution_count": 42,
   "id": "ea7bdffd-25c4-41c9-ba85-daaa0ff3e70c",
   "metadata": {},
   "outputs": [
    {
     "data": {
      "text/plain": [
       "<AxesSubplot:>"
      ]
     },
     "execution_count": 42,
     "metadata": {},
     "output_type": "execute_result"
    },
    {
     "data": {
      "image/png": "[encoded data removed]",
      "text/plain": [
       "<Figure size 1152x720 with 1 Axes>"
      ]
     },
     "metadata": {
      "needs_background": "light"
     },
     "output_type": "display_data"
    }
   ],
   "source": [
    "plt.figure(figsize=(16, 10))\n",
    "start_Ids_dropped.boxplot()"
   ]
  },
  {
   "cell_type": "code",
   "execution_count": 49,
   "id": "df21c305-0ba7-4e1b-8d9d-16110614d121",
   "metadata": {},
   "outputs": [],
   "source": [
    "y = start_Ids_dropped['class']\n",
    "X = start_Ids_dropped.drop(columns=['class'])"
   ]
  },
  {
   "cell_type": "code",
   "execution_count": 50,
   "id": "1fc3f2b7-c83e-4f58-ad7f-a5e4ca2ce572",
   "metadata": {},
   "outputs": [],
   "source": [
    "def calcu_mult(start_Ids_dropped):\n",
    "    vif = pd.DataFrame()\n",
    "    vif[\"variables\"] = X.columns\n",
    "    vif[\"VIF\"] = [variance_inflation_factor(X.values, i) for i in range(X.shape[1])]\n",
    "\n",
    "    return vif"
   ]
  },
  {
   "cell_type": "code",
   "execution_count": 51,
   "id": "6c0c4da0-7a92-42ff-b65f-dac9f8146c75",
   "metadata": {},
   "outputs": [
    {
     "data": {
      "text/html": [
       "<div>\n",
       "<style scoped>\n",
       "    .dataframe tbody tr th:only-of-type {\n",
       "        vertical-align: middle;\n",
       "    }\n",
       "\n",
       "    .dataframe tbody tr th {\n",
       "        vertical-align: top;\n",
       "    }\n",
       "\n",
       "    .dataframe thead th {\n",
       "        text-align: right;\n",
       "    }\n",
       "</style>\n",
       "<table border=\"1\" class=\"dataframe\">\n",
       "  <thead>\n",
       "    <tr style=\"text-align: right;\">\n",
       "      <th></th>\n",
       "      <th>variables</th>\n",
       "      <th>VIF</th>\n",
       "    </tr>\n",
       "  </thead>\n",
       "  <tbody>\n",
       "    <tr>\n",
       "      <th>0</th>\n",
       "      <td>alpha</td>\n",
       "      <td>4.494318</td>\n",
       "    </tr>\n",
       "    <tr>\n",
       "      <th>1</th>\n",
       "      <td>delta</td>\n",
       "      <td>2.626915</td>\n",
       "    </tr>\n",
       "    <tr>\n",
       "      <th>2</th>\n",
       "      <td>ultra_filter</td>\n",
       "      <td>1278.619429</td>\n",
       "    </tr>\n",
       "    <tr>\n",
       "      <th>3</th>\n",
       "      <td>green_filter</td>\n",
       "      <td>3871.994421</td>\n",
       "    </tr>\n",
       "    <tr>\n",
       "      <th>4</th>\n",
       "      <td>red_filter</td>\n",
       "      <td>3758.403239</td>\n",
       "    </tr>\n",
       "    <tr>\n",
       "      <th>5</th>\n",
       "      <td>nearInfar_filter</td>\n",
       "      <td>3816.870012</td>\n",
       "    </tr>\n",
       "    <tr>\n",
       "      <th>6</th>\n",
       "      <td>infared_filter</td>\n",
       "      <td>2011.903185</td>\n",
       "    </tr>\n",
       "    <tr>\n",
       "      <th>7</th>\n",
       "      <td>cam_col</td>\n",
       "      <td>5.900258</td>\n",
       "    </tr>\n",
       "    <tr>\n",
       "      <th>8</th>\n",
       "      <td>redshift</td>\n",
       "      <td>2.272859</td>\n",
       "    </tr>\n",
       "    <tr>\n",
       "      <th>9</th>\n",
       "      <td>plate</td>\n",
       "      <td>6.091842</td>\n",
       "    </tr>\n",
       "    <tr>\n",
       "      <th>10</th>\n",
       "      <td>modi_Julian_date</td>\n",
       "      <td>252.402774</td>\n",
       "    </tr>\n",
       "  </tbody>\n",
       "</table>\n",
       "</div>"
      ],
      "text/plain": [
       "           variables          VIF\n",
       "0              alpha     4.494318\n",
       "1              delta     2.626915\n",
       "2       ultra_filter  1278.619429\n",
       "3       green_filter  3871.994421\n",
       "4         red_filter  3758.403239\n",
       "5   nearInfar_filter  3816.870012\n",
       "6     infared_filter  2011.903185\n",
       "7            cam_col     5.900258\n",
       "8           redshift     2.272859\n",
       "9              plate     6.091842\n",
       "10  modi_Julian_date   252.402774"
      ]
     },
     "execution_count": 51,
     "metadata": {},
     "output_type": "execute_result"
    }
   ],
   "source": [
    "calcu_mult(X)"
   ]
  },
  {
   "cell_type": "code",
   "execution_count": 52,
   "id": "af8159ce-eefc-4b19-9190-afcbf69261b8",
   "metadata": {},
   "outputs": [
    {
     "data": {
      "text/plain": [
       "<AxesSubplot:>"
      ]
     },
     "execution_count": 52,
     "metadata": {},
     "output_type": "execute_result"
    },
    {
     "data": {
      "image/png": "[encoded data removed]",
      "text/plain": [
       "<Figure size 1440x720 with 2 Axes>"
      ]
     },
     "metadata": {
      "needs_background": "light"
     },
     "output_type": "display_data"
    }
   ],
   "source": [
    "plt.figure(figsize=(20, 10))\n",
    "sns.heatmap(X.corr(), annot = True)"
   ]
  },
  {
   "cell_type": "code",
   "execution_count": 53,
   "id": "094f94da-9562-45fe-941f-6cef01a62556",
   "metadata": {},
   "outputs": [
    {
     "data": {
      "text/html": [
       "<div>\n",
       "<style scoped>\n",
       "    .dataframe tbody tr th:only-of-type {\n",
       "        vertical-align: middle;\n",
       "    }\n",
       "\n",
       "    .dataframe tbody tr th {\n",
       "        vertical-align: top;\n",
       "    }\n",
       "\n",
       "    .dataframe thead th {\n",
       "        text-align: right;\n",
       "    }\n",
       "</style>\n",
       "<table border=\"1\" class=\"dataframe\">\n",
       "  <thead>\n",
       "    <tr style=\"text-align: right;\">\n",
       "      <th></th>\n",
       "      <th>alpha</th>\n",
       "      <th>delta</th>\n",
       "      <th>ultra_filter</th>\n",
       "      <th>red_filter</th>\n",
       "      <th>infared_filter</th>\n",
       "      <th>cam_col</th>\n",
       "      <th>class</th>\n",
       "      <th>redshift</th>\n",
       "      <th>plate</th>\n",
       "      <th>modi_Julian_date</th>\n",
       "    </tr>\n",
       "  </thead>\n",
       "  <tbody>\n",
       "    <tr>\n",
       "      <th>0</th>\n",
       "      <td>135.689107</td>\n",
       "      <td>32.494632</td>\n",
       "      <td>23.87882</td>\n",
       "      <td>20.39501</td>\n",
       "      <td>18.79371</td>\n",
       "      <td>2</td>\n",
       "      <td>GALAXY</td>\n",
       "      <td>0.634794</td>\n",
       "      <td>5812</td>\n",
       "      <td>56354</td>\n",
       "    </tr>\n",
       "    <tr>\n",
       "      <th>1</th>\n",
       "      <td>144.826101</td>\n",
       "      <td>31.274185</td>\n",
       "      <td>24.77759</td>\n",
       "      <td>22.58444</td>\n",
       "      <td>21.61427</td>\n",
       "      <td>5</td>\n",
       "      <td>GALAXY</td>\n",
       "      <td>0.779136</td>\n",
       "      <td>10445</td>\n",
       "      <td>58158</td>\n",
       "    </tr>\n",
       "    <tr>\n",
       "      <th>2</th>\n",
       "      <td>142.188790</td>\n",
       "      <td>35.582444</td>\n",
       "      <td>25.26307</td>\n",
       "      <td>20.60976</td>\n",
       "      <td>18.94827</td>\n",
       "      <td>2</td>\n",
       "      <td>GALAXY</td>\n",
       "      <td>0.644195</td>\n",
       "      <td>4576</td>\n",
       "      <td>55592</td>\n",
       "    </tr>\n",
       "    <tr>\n",
       "      <th>3</th>\n",
       "      <td>338.741038</td>\n",
       "      <td>-0.402828</td>\n",
       "      <td>22.13682</td>\n",
       "      <td>21.61162</td>\n",
       "      <td>19.25010</td>\n",
       "      <td>3</td>\n",
       "      <td>GALAXY</td>\n",
       "      <td>0.932346</td>\n",
       "      <td>9149</td>\n",
       "      <td>58039</td>\n",
       "    </tr>\n",
       "    <tr>\n",
       "      <th>4</th>\n",
       "      <td>345.282593</td>\n",
       "      <td>21.183866</td>\n",
       "      <td>19.43718</td>\n",
       "      <td>16.49747</td>\n",
       "      <td>15.54461</td>\n",
       "      <td>3</td>\n",
       "      <td>GALAXY</td>\n",
       "      <td>0.116123</td>\n",
       "      <td>6121</td>\n",
       "      <td>56187</td>\n",
       "    </tr>\n",
       "    <tr>\n",
       "      <th>...</th>\n",
       "      <td>...</td>\n",
       "      <td>...</td>\n",
       "      <td>...</td>\n",
       "      <td>...</td>\n",
       "      <td>...</td>\n",
       "      <td>...</td>\n",
       "      <td>...</td>\n",
       "      <td>...</td>\n",
       "      <td>...</td>\n",
       "      <td>...</td>\n",
       "    </tr>\n",
       "    <tr>\n",
       "      <th>99995</th>\n",
       "      <td>39.620709</td>\n",
       "      <td>-2.594074</td>\n",
       "      <td>22.16759</td>\n",
       "      <td>21.90404</td>\n",
       "      <td>20.73569</td>\n",
       "      <td>2</td>\n",
       "      <td>GALAXY</td>\n",
       "      <td>0.000000</td>\n",
       "      <td>9374</td>\n",
       "      <td>57749</td>\n",
       "    </tr>\n",
       "    <tr>\n",
       "      <th>99996</th>\n",
       "      <td>29.493819</td>\n",
       "      <td>19.798874</td>\n",
       "      <td>22.69118</td>\n",
       "      <td>20.45003</td>\n",
       "      <td>19.41526</td>\n",
       "      <td>1</td>\n",
       "      <td>GALAXY</td>\n",
       "      <td>0.404895</td>\n",
       "      <td>7626</td>\n",
       "      <td>56934</td>\n",
       "    </tr>\n",
       "    <tr>\n",
       "      <th>99997</th>\n",
       "      <td>224.587407</td>\n",
       "      <td>15.700707</td>\n",
       "      <td>21.16916</td>\n",
       "      <td>18.20428</td>\n",
       "      <td>17.35221</td>\n",
       "      <td>4</td>\n",
       "      <td>GALAXY</td>\n",
       "      <td>0.143366</td>\n",
       "      <td>2764</td>\n",
       "      <td>54535</td>\n",
       "    </tr>\n",
       "    <tr>\n",
       "      <th>99998</th>\n",
       "      <td>212.268621</td>\n",
       "      <td>46.660365</td>\n",
       "      <td>25.35039</td>\n",
       "      <td>19.91386</td>\n",
       "      <td>18.62482</td>\n",
       "      <td>4</td>\n",
       "      <td>GALAXY</td>\n",
       "      <td>0.455040</td>\n",
       "      <td>6751</td>\n",
       "      <td>56368</td>\n",
       "    </tr>\n",
       "    <tr>\n",
       "      <th>99999</th>\n",
       "      <td>196.896053</td>\n",
       "      <td>49.464643</td>\n",
       "      <td>22.62171</td>\n",
       "      <td>20.60115</td>\n",
       "      <td>19.28075</td>\n",
       "      <td>4</td>\n",
       "      <td>GALAXY</td>\n",
       "      <td>0.542944</td>\n",
       "      <td>7410</td>\n",
       "      <td>57104</td>\n",
       "    </tr>\n",
       "  </tbody>\n",
       "</table>\n",
       "<p>100000 rows × 10 columns</p>\n",
       "</div>"
      ],
      "text/plain": [
       "            alpha      delta  ultra_filter  red_filter  infared_filter  \\\n",
       "0      135.689107  32.494632      23.87882    20.39501        18.79371   \n",
       "1      144.826101  31.274185      24.77759    22.58444        21.61427   \n",
       "2      142.188790  35.582444      25.26307    20.60976        18.94827   \n",
       "3      338.741038  -0.402828      22.13682    21.61162        19.25010   \n",
       "4      345.282593  21.183866      19.43718    16.49747        15.54461   \n",
       "...           ...        ...           ...         ...             ...   \n",
       "99995   39.620709  -2.594074      22.16759    21.90404        20.73569   \n",
       "99996   29.493819  19.798874      22.69118    20.45003        19.41526   \n",
       "99997  224.587407  15.700707      21.16916    18.20428        17.35221   \n",
       "99998  212.268621  46.660365      25.35039    19.91386        18.62482   \n",
       "99999  196.896053  49.464643      22.62171    20.60115        19.28075   \n",
       "\n",
       "       cam_col   class  redshift  plate  modi_Julian_date  \n",
       "0            2  GALAXY  0.634794   5812             56354  \n",
       "1            5  GALAXY  0.779136  10445             58158  \n",
       "2            2  GALAXY  0.644195   4576             55592  \n",
       "3            3  GALAXY  0.932346   9149             58039  \n",
       "4            3  GALAXY  0.116123   6121             56187  \n",
       "...        ...     ...       ...    ...               ...  \n",
       "99995        2  GALAXY  0.000000   9374             57749  \n",
       "99996        1  GALAXY  0.404895   7626             56934  \n",
       "99997        4  GALAXY  0.143366   2764             54535  \n",
       "99998        4  GALAXY  0.455040   6751             56368  \n",
       "99999        4  GALAXY  0.542944   7410             57104  \n",
       "\n",
       "[100000 rows x 10 columns]"
      ]
     },
     "execution_count": 53,
     "metadata": {},
     "output_type": "execute_result"
    }
   ],
   "source": [
    "start_mulCor_dropped = start_Ids_dropped.drop(columns=['green_filter', 'nearInfar_filter'])\n",
    "start_mulCor_dropped"
   ]
  },
  {
   "cell_type": "code",
   "execution_count": 54,
   "id": "8cd31c15-95d2-4450-bd54-deecc9b02e4c",
   "metadata": {},
   "outputs": [
    {
     "ename": "NameError",
     "evalue": "name 'gender_data' is not defined",
     "output_type": "error",
     "traceback": [
      "\u001b[1;31m---------------------------------------------------------------------------\u001b[0m",
      "\u001b[1;31mNameError\u001b[0m                                 Traceback (most recent call last)",
      "Input \u001b[1;32mIn [54]\u001b[0m, in \u001b[0;36m<cell line: 1>\u001b[1;34m()\u001b[0m\n\u001b[1;32m----> 1\u001b[0m sns\u001b[38;5;241m.\u001b[39mbarplot(x\u001b[38;5;241m=\u001b[39m\u001b[38;5;124m\"\u001b[39m\u001b[38;5;124mgender\u001b[39m\u001b[38;5;124m\"\u001b[39m, y\u001b[38;5;241m=\u001b[39m\u001b[38;5;124m\"\u001b[39m\u001b[38;5;124mnose_wide\u001b[39m\u001b[38;5;124m\"\u001b[39m, data\u001b[38;5;241m=\u001b[39m\u001b[43mgender_data\u001b[49m)\n",
      "\u001b[1;31mNameError\u001b[0m: name 'gender_data' is not defined"
     ]
    }
   ],
   "source": [
    "sns.barplot(x=\"gender\", y=\"nose_wide\", data=gender_data)"
   ]
  },
  {
   "cell_type": "code",
   "execution_count": 55,
   "id": "87caf7df-08ab-482e-b320-afcf1ee32bb6",
   "metadata": {},
   "outputs": [],
   "source": [
    "y = start_mulCor_dropped['class']\n",
    "x = start_mulCor_dropped.drop(columns=['class'], axis=1)"
   ]
  },
  {
   "cell_type": "code",
   "execution_count": 56,
   "id": "d75c0079-6ecf-4dd0-a29c-bbd22dac4ddb",
   "metadata": {},
   "outputs": [
    {
     "data": {
      "text/plain": [
       "GALAXY    59445\n",
       "STAR      21594\n",
       "QSO       18961\n",
       "Name: class, dtype: int64"
      ]
     },
     "execution_count": 56,
     "metadata": {},
     "output_type": "execute_result"
    }
   ],
   "source": [
    "y.value_counts()"
   ]
  },
  {
   "cell_type": "code",
   "execution_count": 57,
   "id": "63288c20-961e-4a04-b312-bd6365672ad8",
   "metadata": {},
   "outputs": [],
   "source": [
    "sample = SMOTE(random_state=45)\n",
    "x,y = sample.fit_resample(x,y)"
   ]
  },
  {
   "cell_type": "code",
   "execution_count": 58,
   "id": "17339833-4e41-4267-9a23-941ffbc6cddf",
   "metadata": {},
   "outputs": [
    {
     "data": {
      "text/plain": [
       "GALAXY    59445\n",
       "QSO       59445\n",
       "STAR      59445\n",
       "Name: class, dtype: int64"
      ]
     },
     "execution_count": 58,
     "metadata": {},
     "output_type": "execute_result"
    }
   ],
   "source": [
    "y.value_counts()"
   ]
  },
  {
   "cell_type": "code",
   "execution_count": 59,
   "id": "b0303b62-b60c-47e1-be2c-8abd4dfb851b",
   "metadata": {},
   "outputs": [],
   "source": [
    "X_train, X_test, y_train, y_test = train_test_split(x, y, test_size=.20, random_state=45)"
   ]
  },
  {
   "cell_type": "code",
   "execution_count": 60,
   "id": "ec1bd0ef-9927-48c5-9bf2-5cf577a2596d",
   "metadata": {},
   "outputs": [],
   "source": [
    "Scaler = StandardScaler()\n",
    "X_train_norm = pd.DataFrame(Scaler.fit_transform(X_train))\n",
    "\n",
    "X_train_scale, X_test_scale, y_train_scale, y_test_scale = train_test_split(X_train_norm, y_train, test_size=.20, random_state=45)"
   ]
  },
  {
   "cell_type": "code",
   "execution_count": 61,
   "id": "b648afc5-41c7-4610-9915-cc791111e80b",
   "metadata": {},
   "outputs": [],
   "source": [
    "model = PCA(n_components = 9)\n",
    "model_ = model.fit(X_train_scale, y_train_scale)"
   ]
  },
  {
   "cell_type": "code",
   "execution_count": 62,
   "id": "02698f3d-680c-4665-af39-35476a4db0d9",
   "metadata": {},
   "outputs": [
    {
     "name": "stdout",
     "output_type": "stream",
     "text": [
      "[0.32439799 0.22636217 0.11945112 0.10627584 0.09135692 0.08005441\n",
      " 0.04536464 0.00378663 0.00295027]\n"
     ]
    }
   ],
   "source": [
    "pca = PCA(n_components=9)\n",
    "model = pca.fit(X_train_scale)\n",
    "PCA(n_components = 7)\n",
    "print(model.explained_variance_ratio_)"
   ]
  },
  {
   "cell_type": "code",
   "execution_count": 63,
   "id": "4f066a5d-607b-4593-9991-47e13ff11446",
   "metadata": {},
   "outputs": [
    {
     "data": {
      "image/png": "[encoded data removed]",
      "text/plain": [
       "<Figure size 432x288 with 1 Axes>"
      ]
     },
     "metadata": {
      "needs_background": "light"
     },
     "output_type": "display_data"
    }
   ],
   "source": [
    "features = x.columns\n",
    "importances = model_.explained_variance_\n",
    "indices = np.argsort(importances)[-9:]\n",
    "plt.title('Feature Importances')\n",
    "plt.barh(range(len(indices)), importances[indices], color='g', align='center')\n",
    "plt.yticks(range(len(indices)), [features[i] for i in indices])\n",
    "plt.xlabel('Relatives importance')\n",
    "plt.show()"
   ]
  },
  {
   "cell_type": "code",
   "execution_count": 64,
   "id": "c31c726c-dee8-4bc6-9ea2-08dd24ac5048",
   "metadata": {},
   "outputs": [
    {
     "data": {
      "text/html": [
       "<div>\n",
       "<style scoped>\n",
       "    .dataframe tbody tr th:only-of-type {\n",
       "        vertical-align: middle;\n",
       "    }\n",
       "\n",
       "    .dataframe tbody tr th {\n",
       "        vertical-align: top;\n",
       "    }\n",
       "\n",
       "    .dataframe thead th {\n",
       "        text-align: right;\n",
       "    }\n",
       "</style>\n",
       "<table border=\"1\" class=\"dataframe\">\n",
       "  <thead>\n",
       "    <tr style=\"text-align: right;\">\n",
       "      <th></th>\n",
       "      <th>0</th>\n",
       "      <th>1</th>\n",
       "      <th>2</th>\n",
       "      <th>3</th>\n",
       "      <th>4</th>\n",
       "      <th>5</th>\n",
       "      <th>6</th>\n",
       "      <th>7</th>\n",
       "      <th>8</th>\n",
       "    </tr>\n",
       "  </thead>\n",
       "  <tbody>\n",
       "    <tr>\n",
       "      <th>88400</th>\n",
       "      <td>-1.274959</td>\n",
       "      <td>-1.284380</td>\n",
       "      <td>-0.116618</td>\n",
       "      <td>-0.700916</td>\n",
       "      <td>-0.147758</td>\n",
       "      <td>-0.925846</td>\n",
       "      <td>-0.813450</td>\n",
       "      <td>-1.098662</td>\n",
       "      <td>-1.304943</td>\n",
       "    </tr>\n",
       "    <tr>\n",
       "      <th>48594</th>\n",
       "      <td>1.791692</td>\n",
       "      <td>-1.189648</td>\n",
       "      <td>-0.207904</td>\n",
       "      <td>-1.496717</td>\n",
       "      <td>-0.431649</td>\n",
       "      <td>1.667534</td>\n",
       "      <td>-0.599075</td>\n",
       "      <td>-1.659814</td>\n",
       "      <td>-2.167536</td>\n",
       "    </tr>\n",
       "    <tr>\n",
       "      <th>97501</th>\n",
       "      <td>0.224290</td>\n",
       "      <td>0.520054</td>\n",
       "      <td>-0.117980</td>\n",
       "      <td>0.446949</td>\n",
       "      <td>0.215815</td>\n",
       "      <td>1.019189</td>\n",
       "      <td>0.581756</td>\n",
       "      <td>1.627171</td>\n",
       "      <td>1.545220</td>\n",
       "    </tr>\n",
       "    <tr>\n",
       "      <th>62917</th>\n",
       "      <td>-0.677691</td>\n",
       "      <td>0.820795</td>\n",
       "      <td>0.102588</td>\n",
       "      <td>0.711410</td>\n",
       "      <td>0.067599</td>\n",
       "      <td>1.019189</td>\n",
       "      <td>-0.215904</td>\n",
       "      <td>-0.570480</td>\n",
       "      <td>-0.270941</td>\n",
       "    </tr>\n",
       "    <tr>\n",
       "      <th>60166</th>\n",
       "      <td>-0.598353</td>\n",
       "      <td>1.391463</td>\n",
       "      <td>-0.012633</td>\n",
       "      <td>0.907170</td>\n",
       "      <td>0.284039</td>\n",
       "      <td>-0.277501</td>\n",
       "      <td>0.623104</td>\n",
       "      <td>0.978766</td>\n",
       "      <td>1.106435</td>\n",
       "    </tr>\n",
       "    <tr>\n",
       "      <th>...</th>\n",
       "      <td>...</td>\n",
       "      <td>...</td>\n",
       "      <td>...</td>\n",
       "      <td>...</td>\n",
       "      <td>...</td>\n",
       "      <td>...</td>\n",
       "      <td>...</td>\n",
       "      <td>...</td>\n",
       "      <td>...</td>\n",
       "    </tr>\n",
       "    <tr>\n",
       "      <th>49315</th>\n",
       "      <td>-0.180781</td>\n",
       "      <td>1.654266</td>\n",
       "      <td>-0.156981</td>\n",
       "      <td>0.467987</td>\n",
       "      <td>0.167636</td>\n",
       "      <td>-0.277501</td>\n",
       "      <td>1.510490</td>\n",
       "      <td>0.938136</td>\n",
       "      <td>0.944456</td>\n",
       "    </tr>\n",
       "    <tr>\n",
       "      <th>81853</th>\n",
       "      <td>0.179436</td>\n",
       "      <td>-0.852757</td>\n",
       "      <td>0.013009</td>\n",
       "      <td>0.561612</td>\n",
       "      <td>0.304358</td>\n",
       "      <td>0.370844</td>\n",
       "      <td>1.913797</td>\n",
       "      <td>0.016315</td>\n",
       "      <td>0.138444</td>\n",
       "    </tr>\n",
       "    <tr>\n",
       "      <th>60960</th>\n",
       "      <td>-0.572886</td>\n",
       "      <td>1.140358</td>\n",
       "      <td>-0.084775</td>\n",
       "      <td>0.031349</td>\n",
       "      <td>0.088402</td>\n",
       "      <td>-0.277501</td>\n",
       "      <td>-0.813553</td>\n",
       "      <td>0.669716</td>\n",
       "      <td>0.546165</td>\n",
       "    </tr>\n",
       "    <tr>\n",
       "      <th>137084</th>\n",
       "      <td>-1.646394</td>\n",
       "      <td>-1.062828</td>\n",
       "      <td>0.103808</td>\n",
       "      <td>0.568468</td>\n",
       "      <td>0.026963</td>\n",
       "      <td>1.667534</td>\n",
       "      <td>-0.168850</td>\n",
       "      <td>-0.352680</td>\n",
       "      <td>-0.111181</td>\n",
       "    </tr>\n",
       "    <tr>\n",
       "      <th>137630</th>\n",
       "      <td>-0.070058</td>\n",
       "      <td>-1.310942</td>\n",
       "      <td>-0.438737</td>\n",
       "      <td>-1.826145</td>\n",
       "      <td>-0.444640</td>\n",
       "      <td>1.667534</td>\n",
       "      <td>-0.813631</td>\n",
       "      <td>-0.711018</td>\n",
       "      <td>-0.464539</td>\n",
       "    </tr>\n",
       "  </tbody>\n",
       "</table>\n",
       "<p>114134 rows × 9 columns</p>\n",
       "</div>"
      ],
      "text/plain": [
       "               0         1         2         3         4         5         6  \\\n",
       "88400  -1.274959 -1.284380 -0.116618 -0.700916 -0.147758 -0.925846 -0.813450   \n",
       "48594   1.791692 -1.189648 -0.207904 -1.496717 -0.431649  1.667534 -0.599075   \n",
       "97501   0.224290  0.520054 -0.117980  0.446949  0.215815  1.019189  0.581756   \n",
       "62917  -0.677691  0.820795  0.102588  0.711410  0.067599  1.019189 -0.215904   \n",
       "60166  -0.598353  1.391463 -0.012633  0.907170  0.284039 -0.277501  0.623104   \n",
       "...          ...       ...       ...       ...       ...       ...       ...   \n",
       "49315  -0.180781  1.654266 -0.156981  0.467987  0.167636 -0.277501  1.510490   \n",
       "81853   0.179436 -0.852757  0.013009  0.561612  0.304358  0.370844  1.913797   \n",
       "60960  -0.572886  1.140358 -0.084775  0.031349  0.088402 -0.277501 -0.813553   \n",
       "137084 -1.646394 -1.062828  0.103808  0.568468  0.026963  1.667534 -0.168850   \n",
       "137630 -0.070058 -1.310942 -0.438737 -1.826145 -0.444640  1.667534 -0.813631   \n",
       "\n",
       "               7         8  \n",
       "88400  -1.098662 -1.304943  \n",
       "48594  -1.659814 -2.167536  \n",
       "97501   1.627171  1.545220  \n",
       "62917  -0.570480 -0.270941  \n",
       "60166   0.978766  1.106435  \n",
       "...          ...       ...  \n",
       "49315   0.938136  0.944456  \n",
       "81853   0.016315  0.138444  \n",
       "60960   0.669716  0.546165  \n",
       "137084 -0.352680 -0.111181  \n",
       "137630 -0.711018 -0.464539  \n",
       "\n",
       "[114134 rows x 9 columns]"
      ]
     },
     "execution_count": 64,
     "metadata": {},
     "output_type": "execute_result"
    }
   ],
   "source": [
    "X_train_scale"
   ]
  },
  {
   "cell_type": "code",
   "execution_count": 65,
   "id": "9b89f21a-8e05-463a-a80b-6d482adb951a",
   "metadata": {},
   "outputs": [
    {
     "data": {
      "text/plain": [
       "(114134, 9)"
      ]
     },
     "execution_count": 65,
     "metadata": {},
     "output_type": "execute_result"
    }
   ],
   "source": [
    "X_train_scale.shape"
   ]
  },
  {
   "cell_type": "code",
   "execution_count": 66,
   "id": "b05bb271-564c-48a7-a261-9f4f67bf51ab",
   "metadata": {},
   "outputs": [
    {
     "data": {
      "text/plain": [
       "(114134,)"
      ]
     },
     "execution_count": 66,
     "metadata": {},
     "output_type": "execute_result"
    }
   ],
   "source": [
    "y_train_scale.shape"
   ]
  },
  {
   "cell_type": "code",
   "execution_count": 67,
   "id": "ed6a6363-5e49-440b-a905-474093d73bee",
   "metadata": {},
   "outputs": [
    {
     "name": "stderr",
     "output_type": "stream",
     "text": [
      "lbfgs failed to converge (status=1):\n",
      "STOP: TOTAL NO. of ITERATIONS REACHED LIMIT.\n",
      "\n",
      "Increase the number of iterations (max_iter) or scale the data as shown in:\n",
      "    https://scikit-learn.org/stable/modules/preprocessing.html\n",
      "Please also refer to the documentation for alternative solver options:\n",
      "    https://scikit-learn.org/stable/modules/linear_model.html#logistic-regression\n"
     ]
    },
    {
     "data": {
      "text/plain": [
       "LogisticRegression()"
      ]
     },
     "execution_count": 67,
     "metadata": {},
     "output_type": "execute_result"
    }
   ],
   "source": [
    "model = LogisticRegression()\n",
    "model_ = model.fit(X_train_scale, y_train_scale)\n",
    "model_"
   ]
  },
  {
   "cell_type": "code",
   "execution_count": 68,
   "id": "395b476a-acf8-41dc-8151-52f5a3af6405",
   "metadata": {},
   "outputs": [
    {
     "data": {
      "text/plain": [
       "0.9597140203620306"
      ]
     },
     "execution_count": 68,
     "metadata": {},
     "output_type": "execute_result"
    }
   ],
   "source": [
    "coef_deter = model_.score(X_train_scale, y_train_scale)\n",
    "coef_deter"
   ]
  },
  {
   "cell_type": "code",
   "execution_count": 69,
   "id": "26ea06d7-50a5-4348-9d9f-cd65b303ece5",
   "metadata": {},
   "outputs": [],
   "source": [
    "y_predict = model_.predict(X_test_scale)"
   ]
  },
  {
   "cell_type": "code",
   "execution_count": 70,
   "id": "1424712c-6731-4295-8f70-8c69953c05df",
   "metadata": {},
   "outputs": [
    {
     "data": {
      "text/plain": [
       "array([[8947,  328,  286],\n",
       "       [ 599, 8915,    3],\n",
       "       [   0,    2, 9454]], dtype=int64)"
      ]
     },
     "execution_count": 70,
     "metadata": {},
     "output_type": "execute_result"
    }
   ],
   "source": [
    "cf_matrix = confusion_matrix(y_test_scale, y_predict)\n",
    "cf_matrix"
   ]
  },
  {
   "cell_type": "code",
   "execution_count": 71,
   "id": "16f50810-48f8-4b14-8028-1beeed20e50f",
   "metadata": {},
   "outputs": [
    {
     "data": {
      "text/plain": [
       "RepeatedKFold(n_repeats=4, n_splits=10, random_state=1)"
      ]
     },
     "execution_count": 71,
     "metadata": {},
     "output_type": "execute_result"
    }
   ],
   "source": [
    "cv = RepeatedKFold(n_splits = 10, n_repeats = 4, random_state= 1)\n",
    "cv"
   ]
  },
  {
   "cell_type": "code",
   "execution_count": 73,
   "id": "7a40f6cc-8e75-46d2-a052-0356ba368fbf",
   "metadata": {},
   "outputs": [],
   "source": [
    "# score = cross_val_score(model, X_test_scale, y_test_scale, scoring = 'accuracy', cv = cv, n_jobs = 1, error_score='raise')\n",
    "# np.mean(score)"
   ]
  },
  {
   "cell_type": "code",
   "execution_count": 74,
   "id": "4caf41cc-2732-4dac-b07a-c9fb2833f6df",
   "metadata": {},
   "outputs": [
    {
     "name": "stdout",
     "output_type": "stream",
     "text": [
      "              precision    recall  f1-score   support\n",
      "\n",
      "      GALAXY       0.94      0.94      0.94      9561\n",
      "         QSO       0.96      0.94      0.95      9517\n",
      "        STAR       0.97      1.00      0.98      9456\n",
      "\n",
      "    accuracy                           0.96     28534\n",
      "   macro avg       0.96      0.96      0.96     28534\n",
      "weighted avg       0.96      0.96      0.96     28534\n",
      "\n"
     ]
    }
   ],
   "source": [
    "classification_report(y_test_scale, y_predict)\n",
    "print(classification_report(y_test_scale, y_predict))"
   ]
  },
  {
   "cell_type": "code",
   "execution_count": 75,
   "id": "de152429-cf88-4803-ab09-a1171aa11f3a",
   "metadata": {},
   "outputs": [
    {
     "data": {
      "text/plain": [
       "SVC(random_state=1)"
      ]
     },
     "execution_count": 75,
     "metadata": {},
     "output_type": "execute_result"
    }
   ],
   "source": [
    "classifier = SVC(kernel = 'rbf', random_state = 1)\n",
    "classifier.fit(X_train_scale, y_train_scale)"
   ]
  },
  {
   "cell_type": "code",
   "execution_count": 76,
   "id": "14d7d9a8-6ba1-4305-ad8c-323406afd785",
   "metadata": {},
   "outputs": [],
   "source": [
    "Y_pred = classifier.predict(X_test_scale)"
   ]
  },
  {
   "cell_type": "code",
   "execution_count": 77,
   "id": "e48b6726-aa4a-43e0-a03b-ccf0ae2029a8",
   "metadata": {},
   "outputs": [
    {
     "data": {
      "text/plain": [
       "array(['GALAXY', 'GALAXY', 'GALAXY', ..., 'GALAXY', 'STAR', 'GALAXY'],\n",
       "      dtype=object)"
      ]
     },
     "execution_count": 77,
     "metadata": {},
     "output_type": "execute_result"
    }
   ],
   "source": [
    "Y_pred"
   ]
  },
  {
   "cell_type": "code",
   "execution_count": 78,
   "id": "ff0d33db-afbf-4d15-9aa2-2147e3c5a4f5",
   "metadata": {},
   "outputs": [
    {
     "data": {
      "text/plain": [
       "array([[9124,  167,  270],\n",
       "       [ 503, 9008,    6],\n",
       "       [   3,    0, 9453]], dtype=int64)"
      ]
     },
     "execution_count": 78,
     "metadata": {},
     "output_type": "execute_result"
    }
   ],
   "source": [
    "cf_matrix = confusion_matrix(y_test_scale, Y_pred)\n",
    "cf_matrix"
   ]
  },
  {
   "cell_type": "code",
   "execution_count": 79,
   "id": "78449224-a292-4f64-a7cc-3af51b6d41f8",
   "metadata": {},
   "outputs": [],
   "source": [
    "clf = RandomForestClassifier(n_estimators = 100)"
   ]
  },
  {
   "cell_type": "code",
   "execution_count": 80,
   "id": "ad4a5df5-c547-4b38-8ea7-b05bcda7506a",
   "metadata": {},
   "outputs": [],
   "source": [
    "clf.fit(X_train_scale, y_train_scale)\n",
    "y_predict = clf.predict(X_test_scale)"
   ]
  },
  {
   "cell_type": "code",
   "execution_count": 81,
   "id": "099e67f2-c674-43b1-b25e-2cb8e2f50f1b",
   "metadata": {},
   "outputs": [],
   "source": [
    "y_prob = clf.predict_proba(X_test_scale)"
   ]
  },
  {
   "cell_type": "code",
   "execution_count": 82,
   "id": "992c83ce-bd01-4f01-a3ce-b328eec594ac",
   "metadata": {},
   "outputs": [
    {
     "name": "stdout",
     "output_type": "stream",
     "text": [
      "[[9335  192   34]\n",
      " [ 306 9211    0]\n",
      " [   1    0 9455]]\n",
      "              precision    recall  f1-score   support\n",
      "\n",
      "      GALAXY       0.97      0.98      0.97      9561\n",
      "         QSO       0.98      0.97      0.97      9517\n",
      "        STAR       1.00      1.00      1.00      9456\n",
      "\n",
      "    accuracy                           0.98     28534\n",
      "   macro avg       0.98      0.98      0.98     28534\n",
      "weighted avg       0.98      0.98      0.98     28534\n",
      "\n"
     ]
    }
   ],
   "source": [
    "print(confusion_matrix(y_test_scale, y_predict))\n",
    "print(classification_report(y_test_scale, y_predict))"
   ]
  },
  {
   "cell_type": "code",
   "execution_count": 83,
   "id": "238b3fd1-60ee-4351-b801-524cd64ee7e1",
   "metadata": {},
   "outputs": [],
   "source": [
    "classes = clf.classes_\n"
   ]
  },
  {
   "cell_type": "code",
   "execution_count": 84,
   "id": "22c23071-7c8b-4743-863e-5dd6408365dc",
   "metadata": {},
   "outputs": [],
   "source": [
    "def calculate_tpr_fpr(y_real, y_pred):\n",
    "    '''\n",
    "    Calculates the True Positive Rate (tpr) and the True Negative Rate (fpr) based on real and predicted observations\n",
    "    \n",
    "    Args:\n",
    "        y_real: The list or series with the real classes\n",
    "        y_pred: The list or series with the predicted classes\n",
    "        \n",
    "    Returns:\n",
    "        tpr: The True Positive Rate of the classifier\n",
    "        fpr: The False Positive Rate of the classifier\n",
    "    '''\n",
    "    \n",
    "    # Calculates the confusion matrix and recover each element\n",
    "    cm = confusion_matrix(y_real, y_pred)\n",
    "    TN = cm[0, 0]\n",
    "    FP = cm[0, 1]\n",
    "    FN = cm[1, 0]\n",
    "    TP = cm[1, 1]\n",
    "    \n",
    "    # Calculates tpr and fpr\n",
    "    tpr =  TP/(TP + FN) # sensitivity - true positive rate\n",
    "    fpr = 1 - TN/(TN+FP) # 1-specificity - false positive rate\n",
    "    \n",
    "    return tpr, fpr"
   ]
  },
  {
   "cell_type": "code",
   "execution_count": 85,
   "id": "e71c56dd-1a9d-4698-9d85-2ff19beb102a",
   "metadata": {},
   "outputs": [],
   "source": [
    "def get_all_roc_coordinates(y_real, y_proba):\n",
    "    '''\n",
    "    Calculates all the ROC Curve coordinates (tpr and fpr) by considering each point as a treshold for the predicion of the class.\n",
    "    \n",
    "    Args:\n",
    "        y_real: The list or series with the real classes.\n",
    "        y_proba: The array with the probabilities for each class, obtained by using the `.predict_proba()` method.\n",
    "        \n",
    "    Returns:\n",
    "        tpr_list: The list of TPRs representing each threshold.\n",
    "        fpr_list: The list of FPRs representing each threshold.\n",
    "    '''\n",
    "    tpr_list = [0]\n",
    "    fpr_list = [0]\n",
    "    for i in range(len(y_proba)):\n",
    "        threshold = y_proba[i]\n",
    "        y_pred = y_proba >= threshold\n",
    "        tpr, fpr = calculate_tpr_fpr(y_real, y_pred)\n",
    "        tpr_list.append(tpr)\n",
    "        fpr_list.append(fpr)\n",
    "    return tpr_list, fpr_list"
   ]
  },
  {
   "cell_type": "code",
   "execution_count": 89,
   "id": "b6981a18-a6c4-4bba-a220-5162b4bc7f91",
   "metadata": {},
   "outputs": [],
   "source": [
    "def plot_roc_curve(tpr, fpr, scatter = True, ax = None):\n",
    "    '''\n",
    "    Plots the ROC Curve by using the list of coordinates (tpr and fpr).\n",
    "    \n",
    "    Args:\n",
    "        tpr: The list of TPRs representing each coordinate.\n",
    "        fpr: The list of FPRs representing each coordinate.\n",
    "        scatter: When True, the points used on the calculation will be plotted with the line (default = True).\n",
    "    '''\n",
    "    if ax == None:\n",
    "        plt.figure(figsize = (5, 5))\n",
    "        ax = plt.axes()\n",
    "    \n",
    "    if scatter:\n",
    "        sns.scatterplot(x = fpr, y = tpr, ax = ax)\n",
    "    sns.lineplot(x = fpr, y = tpr, ax = ax)\n",
    "    sns.lineplot(x = [0, 1], y = [0, 1], color = 'green', ax = ax)\n",
    "    plt.xlim(-0.05, 1.05)\n",
    "    plt.ylim(-0.05, 1.05)\n",
    "    plt.xlabel(\"False Positive Rate\")\n",
    "    plt.ylabel(\"True Positive Rate\")"
   ]
  },
  {
   "cell_type": "code",
   "execution_count": 90,
   "id": "498dfc2b-9ad0-469b-b838-44a369ceb2fe",
   "metadata": {},
   "outputs": [
    {
     "data": {
      "image/png": "[encoded data removed]",
      "text/plain": [
       "<Figure size 864x576 with 6 Axes>"
      ]
     },
     "metadata": {
      "needs_background": "light"
     },
     "output_type": "display_data"
    }
   ],
   "source": [
    "from sklearn.metrics import roc_auc_score\n",
    "\n",
    "plt.figure(figsize = (12, 8))\n",
    "bins = [i/20 for i in range(20)] + [1]\n",
    "roc_auc_ovr = {}\n",
    "\n",
    "for i in range(len(classes)):\n",
    "    # Gets the class\n",
    "    c = classes[i]\n",
    "    \n",
    "    # Prepares an auxiliar dataframe to help with the plots\n",
    "    df_aux = X_test_scale.copy()\n",
    "    df_aux['class'] = [1 if y == c else 0 for y in y_test_scale]\n",
    "    df_aux['prob'] = y_prob[:, i]\n",
    "    df_aux = df_aux.reset_index(drop = True)\n",
    "    \n",
    "    # Plots the probability distribution for the class and the rest\n",
    "    ax = plt.subplot(2, 3, i+1)\n",
    "    sns.histplot(x = \"prob\", data = df_aux, hue = 'class', color = 'b', ax = ax, bins = bins)\n",
    "    ax.set_title(c)\n",
    "    ax.legend([f\"Class: {c}\", \"Rest\"])\n",
    "    ax.set_xlabel(f\"P(x = {c})\")\n",
    "    \n",
    "    # Calculates the ROC Coordinates and plots the ROC Curves\n",
    "    ax_bottom = plt.subplot(2, 3, i+4)\n",
    "    tpr, fpr = get_all_roc_coordinates(df_aux['class'], df_aux['prob'])\n",
    "    plot_roc_curve(tpr, fpr, scatter = False, ax = ax_bottom)\n",
    "    ax_bottom.set_title(\"ROC Curve OvR\")\n",
    "    \n",
    "    # Calculates the ROC AUC OvR\n",
    "    roc_auc_ovr[c] = roc_auc_score(df_aux['class'], df_aux['prob'])\n",
    "    \n",
    "plt.tight_layout()"
   ]
  },
  {
   "cell_type": "code",
   "execution_count": 98,
   "id": "594140e7-065d-433b-9d44-8e9d8457befc",
   "metadata": {},
   "outputs": [
    {
     "ename": "AttributeError",
     "evalue": "module 'sklearn' has no attribute 'SVM'",
     "output_type": "error",
     "traceback": [
      "\u001b[1;31m---------------------------------------------------------------------------\u001b[0m",
      "\u001b[1;31mAttributeError\u001b[0m                            Traceback (most recent call last)",
      "Input \u001b[1;32mIn [98]\u001b[0m, in \u001b[0;36m<cell line: 5>\u001b[1;34m()\u001b[0m\n\u001b[0;32m      2\u001b[0m X_adult,y_adult \u001b[38;5;241m=\u001b[39m shap\u001b[38;5;241m.\u001b[39mdatasets\u001b[38;5;241m.\u001b[39madult()\n\u001b[0;32m      4\u001b[0m \u001b[38;5;66;03m# a simple linear logistic model\u001b[39;00m\n\u001b[1;32m----> 5\u001b[0m model_adult \u001b[38;5;241m=\u001b[39m \u001b[43msklearn\u001b[49m\u001b[38;5;241;43m.\u001b[39;49m\u001b[43mSVM\u001b[49m\u001b[38;5;241m.\u001b[39mmodel_SVC(kernel \u001b[38;5;241m=\u001b[39m \u001b[38;5;124m'\u001b[39m\u001b[38;5;124mrbf\u001b[39m\u001b[38;5;124m'\u001b[39m, random_state \u001b[38;5;241m=\u001b[39m \u001b[38;5;241m1\u001b[39m)(max_iter\u001b[38;5;241m=\u001b[39m\u001b[38;5;241m10000\u001b[39m)\n\u001b[0;32m      6\u001b[0m model_adult\u001b[38;5;241m.\u001b[39mfit(X_adult, y_adult)\n\u001b[0;32m      8\u001b[0m \u001b[38;5;28;01mdef\u001b[39;00m \u001b[38;5;21mmodel_adult_proba\u001b[39m(x):\n",
      "\u001b[1;31mAttributeError\u001b[0m: module 'sklearn' has no attribute 'SVM'"
     ]
    }
   ],
   "source": [
    "# a classic adult census dataset price dataset\n",
    "X_adult,y_adult = shap.datasets.adult()\n",
    "\n",
    "# a simple linear logistic model\n",
    "model_adult = sklearn.SVM.model_SVC(kernel = 'rbf', random_state = 1)(max_iter=10000)\n",
    "model_adult.fit(X_adult, y_adult)\n",
    "\n",
    "def model_adult_proba(x):\n",
    "    return model_adult.predict_proba(x)[:,1]\n",
    "def model_adult_log_odds(x):\n",
    "    p = model_adult.predict_log_proba(x)\n",
    "    return p[:,1] - p[:,0]"
   ]
  },
  {
   "cell_type": "code",
   "execution_count": null,
   "id": "046a76f4-1bbd-4511-859e-bf8665c74638",
   "metadata": {},
   "outputs": [],
   "source": []
  }
 ],
 "metadata": {
  "kernelspec": {
   "display_name": "Python 3 (ipykernel)",
   "language": "python",
   "name": "python3"
  },
  "language_info": {
   "codemirror_mode": {
    "name": "ipython",
    "version": 3
   },
   "file_extension": ".py",
   "mimetype": "text/x-python",
   "name": "python",
   "nbconvert_exporter": "python",
   "pygments_lexer": "ipython3",
   "version": "3.9.6"
  }
 },
 "nbformat": 4,
 "nbformat_minor": 5
}
